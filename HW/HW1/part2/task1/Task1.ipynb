{
 "cells": [
  {
   "cell_type": "code",
   "execution_count": 1,
   "id": "cb9c5353-8fc7-4342-86e2-8f031ab0c7b0",
   "metadata": {},
   "outputs": [
    {
     "name": "stdout",
     "output_type": "stream",
     "text": [
      "\u001b[33mWARNING: Running pip as the 'root' user can result in broken permissions and conflicting behaviour with the system package manager. It is recommended to use a virtual environment instead: https://pip.pypa.io/warnings/venv\u001b[0m\u001b[33m\n",
      "\u001b[0m"
     ]
    }
   ],
   "source": [
    "!pip -q install mrjob pandas matplotlib"
   ]
  },
  {
   "cell_type": "code",
   "execution_count": 2,
   "id": "a7a5cccc-c0e6-491a-a505-944ce8ea73d6",
   "metadata": {},
   "outputs": [],
   "source": [
    "import pandas as pd"
   ]
  },
  {
   "cell_type": "code",
   "execution_count": 3,
   "id": "871dc51a-831a-4e3d-8a15-966992cff7b5",
   "metadata": {},
   "outputs": [
    {
     "name": "stdout",
     "output_type": "stream",
     "text": [
      "Overwriting wordcount.py\n"
     ]
    }
   ],
   "source": [
    "%%file wordcount.py\n",
    "# %%file is an Ipython magic function that saves the code cell as a file\n",
    "import sys\n",
    "from mrjob.job import MRJob, MRStep\n",
    "\n",
    "\n",
    "class MRWordCount(MRJob):\n",
    "    def mapper(self, _, line):\n",
    "        # чистим от всякого мусора, и порядковых номеров\n",
    "        words = (line.lower())\\\n",
    "        .replace(\"(\", '').replace(\")\", '').replace(\"!\", '')\\\n",
    "        .replace(\".\", '').replace(\",\", '').replace(\"'\", '')\\\n",
    "        .replace(\"?\", '').replace('\"', '').split()[1:]\n",
    "        person = words[0] # берем только первое слово, то есть имя персонажа\n",
    "\n",
    "        person_map = {}\n",
    "\n",
    "        if person in person_map:\n",
    "            person_map[person] = person_map[person] + 1\n",
    "        else:\n",
    "            person_map[person] = 1\n",
    "\n",
    "        for persons, size in person_map.items():\n",
    "            yield (persons, size)\n",
    "\n",
    "    def reducer(self, persons, values):\n",
    "        yield (persons, sum(values))\n",
    "\n",
    "    def mapper_top20(self, persons, count):\n",
    "        yield (None, (count, persons))\n",
    "\n",
    "    def reducer_top20(self, _, count_person_pairs):\n",
    "        top20 = sorted(count_person_pairs, reverse=True)[:20]\n",
    "        for count, persons in top20:\n",
    "            yield (persons, count)\n",
    "\n",
    "    def steps(self):\n",
    "        return [\n",
    "            MRStep(mapper=self.mapper, reducer=self.reducer),\n",
    "            MRStep(mapper=self.mapper_top20, reducer=self.reducer_top20)\n",
    "        ]\n",
    "        \n",
    "if __name__ == \"__main__\":\n",
    "    MRWordCount.run()"
   ]
  },
  {
   "cell_type": "code",
   "execution_count": 4,
   "id": "cca5d4e0-3b5c-466c-ba95-b4dbd904250f",
   "metadata": {},
   "outputs": [
    {
     "name": "stdout",
     "output_type": "stream",
     "text": [
      "No configs found; falling back on auto-configuration\n",
      "No configs specified for inline runner\n",
      "Creating temp directory /tmp/wordcount.root.20231121.084210.669488\n",
      "Running step 1 of 2...\n",
      "Running step 2 of 2...\n",
      "job output is in /tmp/wordcount.root.20231121.084210.669488/output\n",
      "Streaming final output from /tmp/wordcount.root.20231121.084210.669488/output...\n",
      "Removing temp directory /tmp/wordcount.root.20231121.084210.669488...\n"
     ]
    }
   ],
   "source": [
    "!python3 wordcount.py SW_EpisodeIV.txt > /out1.csv"
   ]
  },
  {
   "cell_type": "code",
   "execution_count": 5,
   "id": "b4948699-53ab-492a-90ab-d0c499c8f447",
   "metadata": {},
   "outputs": [
    {
     "name": "stdout",
     "output_type": "stream",
     "text": [
      "No configs found; falling back on auto-configuration\n",
      "No configs specified for inline runner\n",
      "Creating temp directory /tmp/wordcount.root.20231121.084211.169221\n",
      "Running step 1 of 2...\n",
      "Running step 2 of 2...\n",
      "job output is in /tmp/wordcount.root.20231121.084211.169221/output\n",
      "Streaming final output from /tmp/wordcount.root.20231121.084211.169221/output...\n",
      "Removing temp directory /tmp/wordcount.root.20231121.084211.169221...\n"
     ]
    }
   ],
   "source": [
    "!python3 wordcount.py SW_EpisodeV.txt > out2.csv"
   ]
  },
  {
   "cell_type": "code",
   "execution_count": 6,
   "id": "233191c1-6097-4127-9120-2cb826e6721a",
   "metadata": {},
   "outputs": [
    {
     "name": "stdout",
     "output_type": "stream",
     "text": [
      "No configs found; falling back on auto-configuration\n",
      "No configs specified for inline runner\n",
      "Creating temp directory /tmp/wordcount.root.20231121.084211.653667\n",
      "Running step 1 of 2...\n",
      "Running step 2 of 2...\n",
      "job output is in /tmp/wordcount.root.20231121.084211.653667/output\n",
      "Streaming final output from /tmp/wordcount.root.20231121.084211.653667/output...\n",
      "Removing temp directory /tmp/wordcount.root.20231121.084211.653667...\n"
     ]
    }
   ],
   "source": [
    "!python3 wordcount.py SW_EpisodeVI.txt > out3.csv"
   ]
  },
  {
   "cell_type": "code",
   "execution_count": 7,
   "id": "6fa8e9b8-8c56-4c0f-83dc-9b4a748d656f",
   "metadata": {},
   "outputs": [],
   "source": [
    "df1 = pd.read_csv('out1.csv', sep='\\t', names=['name', 'count'], index_col=['name'])\n",
    "df2 = pd.read_csv('out2.csv', sep='\\t', names=['name', 'count'], index_col=['name'])\n",
    "df3 = pd.read_csv('out3.csv', sep='\\t', names=['name', 'count'], index_col=['name'])"
   ]
  },
  {
   "cell_type": "markdown",
   "id": "3e79d9bd-14b7-4fa6-98f5-484ef6895b75",
   "metadata": {},
   "source": [
    "Построим график первого файла"
   ]
  },
  {
   "cell_type": "code",
   "execution_count": 8,
   "id": "b8169f65-8436-4ba1-87dd-5d018dd637dd",
   "metadata": {},
   "outputs": [
    {
     "data": {
      "text/plain": [
       "<Axes: xlabel='name'>"
      ]
     },
     "execution_count": 8,
     "metadata": {},
     "output_type": "execute_result"
    },
    {
     "data": {
      "image/png": "[encoded data removed]",
      "text/plain": [
       "<Figure size 640x480 with 1 Axes>"
      ]
     },
     "metadata": {},
     "output_type": "display_data"
    }
   ],
   "source": [
    "df1.plot(kind='bar')"
   ]
  },
  {
   "cell_type": "markdown",
   "id": "1d066de1-4910-4609-84c2-2e518b8ae8be",
   "metadata": {},
   "source": [
    "Объединим три датафрейма и выведем итоговые значения"
   ]
  },
  {
   "cell_type": "code",
   "execution_count": 9,
   "id": "7610fe26-9483-48ba-ab46-c9e30fb8873b",
   "metadata": {},
   "outputs": [
    {
     "data": {
      "text/plain": [
       "<Axes: xlabel='name'>"
      ]
     },
     "execution_count": 9,
     "metadata": {},
     "output_type": "execute_result"
    },
    {
     "data": {
      "image/png": "[encoded data removed]",
      "text/plain": [
       "<Figure size 640x480 with 1 Axes>"
      ]
     },
     "metadata": {},
     "output_type": "display_data"
    }
   ],
   "source": [
    "concatenated_df = pd.concat([df1, df2, df3])\n",
    "result_df = concatenated_df.groupby(concatenated_df.index)['count'].sum()\n",
    "result_df.sort_values(ascending=False)[:20].plot(kind='bar')"
   ]
  },
  {
   "cell_type": "markdown",
   "id": "f214e193-f6fc-449e-a8a4-5db9bacecb47",
   "metadata": {},
   "source": [
    "---\n",
    "Теперь посчитаем на кластере, для примера посчитаем только первый файл"
   ]
  },
  {
   "cell_type": "code",
   "execution_count": 10,
   "id": "696e8a7a-834f-4680-80dc-20226476e547",
   "metadata": {
    "scrolled": true
   },
   "outputs": [
    {
     "name": "stdout",
     "output_type": "stream",
     "text": [
      "Safe mode is OFF\n"
     ]
    }
   ],
   "source": [
    "!hdfs dfsadmin -safemode leave #Почему то нода в безопасном режиме была, выключим этот режим"
   ]
  },
  {
   "cell_type": "code",
   "execution_count": 11,
   "id": "d366337c-8460-405f-8990-95ad8f6e5e49",
   "metadata": {},
   "outputs": [
    {
     "name": "stdout",
     "output_type": "stream",
     "text": [
      "put: `/hw1/SW_EpisodeIV.txt': File exists\n"
     ]
    }
   ],
   "source": [
    "!hadoop fs -put SW_EpisodeIV.txt /hw1"
   ]
  },
  {
   "cell_type": "code",
   "execution_count": 12,
   "id": "6fbee6cf-1438-4968-85b8-22acc17ac446",
   "metadata": {},
   "outputs": [
    {
     "name": "stdout",
     "output_type": "stream",
     "text": [
      "put: `/hw1/SW_EpisodeV.txt': File exists\n"
     ]
    }
   ],
   "source": [
    "!hadoop fs -put SW_EpisodeV.txt /hw1"
   ]
  },
  {
   "cell_type": "code",
   "execution_count": 13,
   "id": "477d2492-58ee-4b09-b7b9-07c8764053fa",
   "metadata": {
    "scrolled": true
   },
   "outputs": [
    {
     "name": "stdout",
     "output_type": "stream",
     "text": [
      "put: `/hw1/SW_EpisodeVI.txt': File exists\n"
     ]
    }
   ],
   "source": [
    "!hadoop fs -put SW_EpisodeVI.txt /hw1"
   ]
  },
  {
   "cell_type": "code",
   "execution_count": 14,
   "id": "795797f3-4142-4c78-842f-42e5fab05921",
   "metadata": {},
   "outputs": [
    {
     "name": "stdout",
     "output_type": "stream",
     "text": [
      "Overwriting config.conf\n"
     ]
    }
   ],
   "source": [
    "%%file config.conf\n",
    "\n",
    "runners:\n",
    "  hadoop: # also works for emr runner\n",
    "    jobconf:\n",
    "      mapreduce.job.reduces: 2"
   ]
  },
  {
   "cell_type": "code",
   "execution_count": 15,
   "id": "41a9c2af-2aee-4230-aa26-387882ce5b4d",
   "metadata": {},
   "outputs": [
    {
     "name": "stdout",
     "output_type": "stream",
     "text": [
      "Looking for hadoop binary in /opt/hadoop/bin...\n",
      "Found hadoop binary: /opt/hadoop/bin/hadoop\n",
      "Using Hadoop version 3.3.6\n",
      "Looking for Hadoop streaming jar in /opt/hadoop...\n",
      "Found Hadoop streaming jar: /opt/hadoop/share/hadoop/tools/lib/hadoop-streaming-3.3.6.jar\n",
      "Creating temp directory /tmp/wordcount.root.20231121.084225.793655\n",
      "uploading working dir files to hdfs:///user/root/tmp/mrjob/wordcount.root.20231121.084225.793655/files/wd...\n",
      "Copying other local files to hdfs:///user/root/tmp/mrjob/wordcount.root.20231121.084225.793655/files/\n",
      "Running step 1 of 2...\n",
      "  packageJobJar: [/tmp/hadoop-unjar3478653859764421090/] [] /tmp/streamjob125110353651013579.jar tmpDir=null\n",
      "  Connecting to ResourceManager at resourcemanager/172.20.0.4:8032\n",
      "  Connecting to ResourceManager at resourcemanager/172.20.0.4:8032\n",
      "  Disabling Erasure Coding for path: /tmp/hadoop-yarn/staging/root/.staging/job_1700468691445_0008\n",
      "  Total input files to process : 1\n",
      "  number of splits:2\n",
      "  Submitting tokens for job: job_1700468691445_0008\n",
      "  Executing with tokens: []\n",
      "  resource-types.xml not found\n",
      "  Unable to find 'resource-types.xml'.\n",
      "  Submitted application application_1700468691445_0008\n",
      "  The url to track the job: http://resourcemanager:8088/proxy/application_1700468691445_0008/\n",
      "  Running job: job_1700468691445_0008\n",
      "  Job job_1700468691445_0008 running in uber mode : false\n",
      "   map 0% reduce 0%\n",
      "   map 100% reduce 0%\n",
      "   map 100% reduce 50%\n",
      "   map 100% reduce 100%\n",
      "  Job job_1700468691445_0008 completed successfully\n",
      "  Output directory: hdfs:///user/root/tmp/mrjob/wordcount.root.20231121.084225.793655/step-output/0000\n",
      "Counters: 54\n",
      "\tFile Input Format Counters \n",
      "\t\tBytes Read=82374\n",
      "\tFile Output Format Counters \n",
      "\t\tBytes Written=550\n",
      "\tFile System Counters\n",
      "\t\tFILE: Number of bytes read=11769\n",
      "\t\tFILE: Number of bytes written=1154552\n",
      "\t\tFILE: Number of large read operations=0\n",
      "\t\tFILE: Number of read operations=0\n",
      "\t\tFILE: Number of write operations=0\n",
      "\t\tHDFS: Number of bytes read=82560\n",
      "\t\tHDFS: Number of bytes read erasure-coded=0\n",
      "\t\tHDFS: Number of bytes written=550\n",
      "\t\tHDFS: Number of large read operations=0\n",
      "\t\tHDFS: Number of read operations=16\n",
      "\t\tHDFS: Number of write operations=4\n",
      "\tJob Counters \n",
      "\t\tLaunched map tasks=2\n",
      "\t\tLaunched reduce tasks=2\n",
      "\t\tRack-local map tasks=2\n",
      "\t\tTotal megabyte-milliseconds taken by all map tasks=9365504\n",
      "\t\tTotal megabyte-milliseconds taken by all reduce tasks=9307136\n",
      "\t\tTotal time spent by all map tasks (ms)=9146\n",
      "\t\tTotal time spent by all maps in occupied slots (ms)=18292\n",
      "\t\tTotal time spent by all reduce tasks (ms)=9089\n",
      "\t\tTotal time spent by all reduces in occupied slots (ms)=18178\n",
      "\t\tTotal vcore-milliseconds taken by all map tasks=9146\n",
      "\t\tTotal vcore-milliseconds taken by all reduce tasks=9089\n",
      "\tMap-Reduce Framework\n",
      "\t\tCPU time spent (ms)=2870\n",
      "\t\tCombine input records=0\n",
      "\t\tCombine output records=0\n",
      "\t\tFailed Shuffles=0\n",
      "\t\tGC time elapsed (ms)=277\n",
      "\t\tInput split bytes=186\n",
      "\t\tMap input records=1011\n",
      "\t\tMap output bytes=9735\n",
      "\t\tMap output materialized bytes=11781\n",
      "\t\tMap output records=1011\n",
      "\t\tMerged Map outputs=4\n",
      "\t\tPeak Map Physical memory (bytes)=268726272\n",
      "\t\tPeak Map Virtual memory (bytes)=5540380672\n",
      "\t\tPeak Reduce Physical memory (bytes)=265719808\n",
      "\t\tPeak Reduce Virtual memory (bytes)=5815107584\n",
      "\t\tPhysical memory (bytes) snapshot=1062240256\n",
      "\t\tReduce input groups=49\n",
      "\t\tReduce input records=1011\n",
      "\t\tReduce output records=49\n",
      "\t\tReduce shuffle bytes=11781\n",
      "\t\tShuffled Maps =4\n",
      "\t\tSpilled Records=2022\n",
      "\t\tTotal committed heap usage (bytes)=737148928\n",
      "\t\tVirtual memory (bytes) snapshot=22642819072\n",
      "\tShuffle Errors\n",
      "\t\tBAD_ID=0\n",
      "\t\tCONNECTION=0\n",
      "\t\tIO_ERROR=0\n",
      "\t\tWRONG_LENGTH=0\n",
      "\t\tWRONG_MAP=0\n",
      "\t\tWRONG_REDUCE=0\n",
      "Running step 2 of 2...\n",
      "  packageJobJar: [/tmp/hadoop-unjar4460648143590835987/] [] /tmp/streamjob6413856173352940544.jar tmpDir=null\n",
      "  Connecting to ResourceManager at resourcemanager/172.20.0.4:8032\n",
      "  Connecting to ResourceManager at resourcemanager/172.20.0.4:8032\n",
      "  Error Launching job : Output directory hdfs://namenode/hw1/output1 already exists\n",
      "  Streaming Command Failed!\n",
      "Attempting to fetch counters from logs...\n",
      "Can't fetch history log; missing job ID\n",
      "No counters found\n",
      "Scanning logs for probable cause of failure...\n",
      "Can't fetch history log; missing job ID\n",
      "Can't fetch task logs; missing application ID\n",
      "Step 2 of 2 failed: Command '['/opt/hadoop/bin/hadoop', 'jar', '/opt/hadoop/share/hadoop/tools/lib/hadoop-streaming-3.3.6.jar', '-files', 'hdfs:///user/root/tmp/mrjob/wordcount.root.20231121.084225.793655/files/wd/mrjob.zip#mrjob.zip,hdfs:///user/root/tmp/mrjob/wordcount.root.20231121.084225.793655/files/wd/setup-wrapper.sh#setup-wrapper.sh,hdfs:///user/root/tmp/mrjob/wordcount.root.20231121.084225.793655/files/wd/wordcount.py#wordcount.py', '-D', 'mapreduce.job.reduces=2', '-input', 'hdfs:///user/root/tmp/mrjob/wordcount.root.20231121.084225.793655/step-output/0000', '-output', 'hdfs:///hw1/output1', '-mapper', '/bin/sh -ex setup-wrapper.sh python3 wordcount.py --step-num=1 --mapper', '-reducer', '/bin/sh -ex setup-wrapper.sh python3 wordcount.py --step-num=1 --reducer']' returned non-zero exit status 1280.\n"
     ]
    }
   ],
   "source": [
    "!python3 wordcount.py -r hadoop hdfs://namenode:8020/hw1/SW_EpisodeIV.txt --conf-path config.conf --output /hw1/output1"
   ]
  },
  {
   "cell_type": "code",
   "execution_count": 16,
   "id": "e24978e0-34cd-4632-903a-16c8d92136a4",
   "metadata": {},
   "outputs": [
    {
     "name": "stdout",
     "output_type": "stream",
     "text": [
      "\"luke\"\t254\n",
      "\"han\"\t153\n",
      "\"threepio\"\t119\n",
      "\"ben\"\t82\n",
      "\"leia\"\t57\n",
      "\"red\"\t49\n",
      "\"vader\"\t41\n",
      "\"biggs\"\t34\n",
      "\"tarkin\"\t28\n",
      "\"owen\"\t25\n",
      "\"gold\"\t23\n",
      "\"trooper\"\t20\n",
      "\"wedge\"\t14\n",
      "\"officer\"\t12\n",
      "\"first\"\t7\n",
      "\"jabba\"\t6\n",
      "\"intercom\"\t6\n",
      "\"greedo\"\t6\n",
      "\"dodonna\"\t6\n",
      "\"death\"\t6\n"
     ]
    }
   ],
   "source": [
    "!hadoop fs -cat /hw1/output1/part-00000"
   ]
  },
  {
   "cell_type": "code",
   "execution_count": null,
   "id": "317a914a-78b9-44c8-b0f1-8d0f48d7a554",
   "metadata": {},
   "outputs": [],
   "source": []
  },
  {
   "cell_type": "code",
   "execution_count": null,
   "id": "34f58d9a-8647-495a-aea2-0e6e61f91627",
   "metadata": {},
   "outputs": [],
   "source": []
  }
 ],
 "metadata": {
  "kernelspec": {
   "display_name": "Python 3 (ipykernel)",
   "language": "python",
   "name": "python3"
  },
  "language_info": {
   "codemirror_mode": {
    "name": "ipython",
    "version": 3
   },
   "file_extension": ".py",
   "mimetype": "text/x-python",
   "name": "python",
   "nbconvert_exporter": "python",
   "pygments_lexer": "ipython3",
   "version": "3.10.12"
  }
 },
 "nbformat": 4,
 "nbformat_minor": 5
}
