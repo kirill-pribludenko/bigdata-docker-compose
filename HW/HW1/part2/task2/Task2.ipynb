{
 "cells": [
  {
   "cell_type": "code",
   "execution_count": 1,
   "id": "e5489708-1f55-455f-b96c-8ac49987da94",
   "metadata": {},
   "outputs": [
    {
     "name": "stdout",
     "output_type": "stream",
     "text": [
      "\u001b[33mWARNING: Running pip as the 'root' user can result in broken permissions and conflicting behaviour with the system package manager. It is recommended to use a virtual environment instead: https://pip.pypa.io/warnings/venv\u001b[0m\u001b[33m\n",
      "\u001b[0m"
     ]
    }
   ],
   "source": [
    "!pip -q install mrjob pandas matplotlib"
   ]
  },
  {
   "cell_type": "code",
   "execution_count": 2,
   "id": "7dd7b895-d39f-43ee-a57c-6759fe7f297b",
   "metadata": {},
   "outputs": [],
   "source": [
    "import pandas as pd"
   ]
  },
  {
   "cell_type": "code",
   "execution_count": 3,
   "id": "cefad159-5af5-4d55-9b8c-98b7d91dd1b7",
   "metadata": {},
   "outputs": [
    {
     "name": "stdout",
     "output_type": "stream",
     "text": [
      "Overwriting longestphrase.py\n"
     ]
    }
   ],
   "source": [
    "%%file longestphrase.py\n",
    "from mrjob.job import MRJob, MRStep\n",
    "\n",
    "class MRLongestPhrase(MRJob):\n",
    "\n",
    "    def mapper(self, _, line):\n",
    "        words = (line.lower()) \\\n",
    "            .replace(\"(\", '').replace(\")\", '').replace(\"!\", '') \\\n",
    "            .replace(\".\", '').replace(\",\", '').replace(\"'\", '') \\\n",
    "            .replace(\"?\", '').replace('\"', '').split()[1:]\n",
    "\n",
    "        person = words[0]\n",
    "        phrase = ' '.join(words[1:])\n",
    "\n",
    "        yield person, (len(phrase), phrase)\n",
    "\n",
    "    def reducer(self, person, lengths_and_phrases):\n",
    "        max_length, max_phrase = max(lengths_and_phrases, key=lambda x: x[0])\n",
    "\n",
    "        yield None, (person, max_length, max_phrase)\n",
    "\n",
    "    def reducer_sort(self, _, person_length_phrase):\n",
    "        sorted_results = sorted(person_length_phrase, key=lambda x: x[1], reverse=True)\n",
    "\n",
    "        for person, length, phrase in sorted_results:\n",
    "            yield person, (length, phrase)\n",
    "\n",
    "    def steps(self):\n",
    "        return [\n",
    "            MRStep(mapper=self.mapper, reducer=self.reducer),\n",
    "            MRStep(reducer=self.reducer_sort)\n",
    "        ]\n",
    "\n",
    "if __name__ == '__main__':\n",
    "    MRLongestPhrase.run()"
   ]
  },
  {
   "cell_type": "code",
   "execution_count": 4,
   "id": "2ee67ee9-99b0-4b30-8ff4-2cafef2f4120",
   "metadata": {},
   "outputs": [
    {
     "name": "stdout",
     "output_type": "stream",
     "text": [
      "No configs found; falling back on auto-configuration\n",
      "No configs specified for inline runner\n",
      "Creating temp directory /tmp/longestphrase.root.20231129.131404.797093\n",
      "Running step 1 of 2...\n",
      "Running step 2 of 2...\n",
      "job output is in /tmp/longestphrase.root.20231129.131404.797093/output\n",
      "Streaming final output from /tmp/longestphrase.root.20231129.131404.797093/output...\n",
      "\"leia\"\t[574, \"general kenobi years ago you served my father in the clone wars now he begs you to help him in his struggle against the empire i regret that i am unable to present my fathers request to you in person but my ship has fallen under attack and im afraid my mission to bring you to alderaan has failed i have placed information vital to the survival of the rebellion into the memory systems of this r2 unit my father will know how to retrieve it you must see this droid safely delivered to him on alderaan this is our most desperate hour help me obi-wan kenobi youre my only hope\"]\n",
      "\"dodonna\"\t[340, \"the approach will not be easy you are required to maneuver straight down this trench and skim the surface to this point the target area is only two meters wide its a small thermal exhaust port right below the main port the shaft leads directly to the reactor system a precise hit will start a chain reaction which should destroy the station\"]\n",
      "\"biggs\"\t[337, \"i feel for you luke youre going to have to learn what seems to be important or what really is important what good is all your uncles work if its taken over by the empire you know theyre starting to nationalize commerce in the central systemsit wont be long before your uncle is merely a tenant slaving for the greater glory of the empire\"]\n",
      "\"jabba\"\t[316, \"put your blasters away han my boy im only doing this because youre the best and i need you so for an extra say twenty percent ill give you a little more time but this is it if you disappoint me again ill put a price on your head so large you wont be able to go near a civilized system for the rest of your short life\"]\n",
      "\"luke\"\t[299, \"so i cut off my power shut down the afterburners and came in low on deaks trail i was so close i thought i was going to fry my instruments as it was i busted up the skyhopper pretty bad uncle owen was pretty upset he grounded me for the rest of the season you should have been there it was fantastic\"]\n",
      "\"tarkin\"\t[290, \"not after we demonstrate the power of this station in a way you have determined the choice of the planet thatll be destroyed first since you are reluctant to provide us with the location of the rebel base i have chosen to test this stations destructive power on your home planet of alderaan\"]\n",
      "\"threepio\"\t[271, \"he says hes the property of obi-wan kenobi a resident of these parts and its a private message for him quite frankly sir i dont know what hes talking about our last master was captain antilles but with what weve been through this little r2 unit has become a bit eccentric\"]\n",
      "\"ben\"\t[253, \"a young jedi named darth vader who was a pupil of mine until he turned to evil helped the empire hunt down and destroy the jedi knights he betrayed and murdered your father now the jedi are all but extinct vader was seduced by the dark side of the force\"]\n",
      "\"vader\"\t[245, \"dont play games with me your highness you werent on any mercy mission this time you passed directly through a restricted system several transmissions were beamed to this ship by rebel spies i want to know what happened to the plans they sent you\"]\n",
      "\"han\"\t[244, \"kid ive flown from one side of this galaxy to the other ive seen a lot of strange stuff but ive never seen anything to make me believe theres one all-powerful force controlling everything theres no mystical energy field that controls my destiny\"]\n",
      "\"motti\"\t[218, \"dont try to frighten us with your sorcerers ways lord vader your sad devotion to that ancient religion has not helped you conjure up the stolen data tapes or given you clairvoyance enough to find the rebels hidden fort\"]\n",
      "\"officer\"\t[211, \"cass our scout ships have reached dantooine they found the remains of a rebel base but they estimate that it has been deserted for some time they are now conducting an extensive search of the surrounding systems\"]\n",
      "\"greedo\"\t[192, \"its too late you should have paid him when you had the chance jabbas put a price on your head so large that every bounty hunter in the galaxy will be looking for you im lucky i found you first\"]\n",
      "\"owen\"\t[182, \"harvest is when i need you the most only one more season this year well make enough on the harvest so ill be able to hire some more hands and then you can go to the academy next year\"]\n",
      "\"second\"\t[178, \"officer lord vader the battle station plans are not aboard this ship and no transmissions were made an escape pod was jettisoned during the fighting but no life forms were aboard\"]\n",
      "\"tagge\"\t[177, \"and what of the rebellion if the rebels have obtained a complete technical readout of this station it is possible however unlikely that they might find a weakness and exploit it\"]\n",
      "\"fixer\"\t[168, \"i keep telling you the rebellion is a long way from here i doubt if the empire would even fight to keep this system believe me luke this planet is a big hunk of nothing\"]\n",
      "\"red\"\t[162, \"leader i met your father once when i was just a boy he was a great pilot youll do all right if youve got half of your fathers skill youll do better than all right\"]\n",
      "\"voice\"\t[143, \"weve captured a freighter entering the remains of the alderaan system its markings match those of a ship that blasted its way out of mos eisley\"]\n",
      "\"death\"\t[136, \"star intercom voice we are approaching the planet yavin the rebel base is on a moon on the far side we are preparing to orbit the planet\"]\n",
      "\"commander\"\t[108, \"holding her is dangerous if word of this gets out it could generate sympathy for the rebellion in the senate\"]\n",
      "\"massassi\"\t[99, \"intercom voice stand-by alert death star approaching estimated time to firing range fifteen minutes\"]\n",
      "\"human\"\t[98, \"dont insult us you just watch yourself were wanted men i have the death sentence on twelve systems\"]\n",
      "\"rebel\"\t[97, \"officer we intercepted no transmissions aaah this is a consular ship were on a diplomatic mission\"]\n",
      "\"wedge\"\t[93, \"my scope shows the tower but i cant see the exhaust port are you sure the computer can hit it\"]\n",
      "\"imperial\"\t[92, \"officer the final check-out is complete all systems are operational what course shall we set\"]\n",
      "\"trooper\"\t[92, \"the ships all yours if the scanners pick up anything report it immediately all right lets go\"]\n",
      "\"control\"\t[90, \"officer squad leaders weve picked up a new group of signals enemy fighters coming your way\"]\n",
      "\"astro-officer\"\t[90, \"we count thirty rebel ships lord vader but theyre so small theyre evading our turbo-lasers\"]\n",
      "\"aunt\"\t[89, \"beru owen he cant stay here forever most of his friends have gone it means so much to him\"]\n",
      "\"gold\"\t[88, \"leader pardon me for asking sir but what good are snub fighters going to be against that\"]\n",
      "\"willard\"\t[85, \"when we heard about alderaan we were afraid that you were lost along with your father\"]\n",
      "\"intercom\"\t[83, \"voice governor tarkin we have an emergency alert in detention block aa-twenty-three\"]\n",
      "\"base\"\t[81, \"voice his computers off luke you switched off your targeting computer whats wrong\"]\n",
      "\"gantry\"\t[78, \"officer tx-four-one-two why arent you at your post tx-four-one-two do you copy\"]\n",
      "\"captain\"\t[72, \"hold your fire there are no life forms it must have been short-circuited\"]\n",
      "\"man\"\t[71, \"all flight troops man your stations all flight troops man your stations\"]\n",
      "\"beru\"\t[70, \"luke tell owen that if he gets a translator to be sure it speaks bocce\"]\n",
      "\"first\"\t[66, \"trooper someone was in the pod the tracks go off in this direction\"]\n",
      "\"chief\"\t[62, \"this r2 unit of your seems a bit beat up do you want a new one\"]\n",
      "\"bartender\"\t[62, \"your droids theyll have to wait outside we dont want them here\"]\n",
      "\"camie\"\t[37, \"it was just wormie on another rampage\"]\n",
      "\"technician\"\t[34, \"well get to work on him right away\"]\n",
      "\"woman\"\t[30, \"ive told you kids to slow down\"]\n",
      "\"creature\"\t[25, \"negola dewaghi wooldugger\"]\n",
      "\"deak\"\t[19, \"not again forget it\"]\n",
      "\"porkins\"\t[19, \"red six standing by\"]\n",
      "\"wingman\"\t[8, \"look out\"]\n",
      "\"dialogue\"\t[0, \"\"]\n",
      "Removing temp directory /tmp/longestphrase.root.20231129.131404.797093...\n"
     ]
    }
   ],
   "source": [
    "!python3 longestphrase.py SW_EpisodeIV.txt"
   ]
  },
  {
   "cell_type": "code",
   "execution_count": 5,
   "id": "79171065-b2ec-45bc-bbe6-8a76597b6057",
   "metadata": {},
   "outputs": [
    {
     "name": "stdout",
     "output_type": "stream",
     "text": [
      "No configs found; falling back on auto-configuration\n",
      "No configs specified for inline runner\n",
      "Creating temp directory /tmp/longestphrase.root.20231129.131405.231062\n",
      "Running step 1 of 2...\n",
      "Running step 2 of 2...\n",
      "job output is in /tmp/longestphrase.root.20231129.131405.231062/output\n",
      "Streaming final output from /tmp/longestphrase.root.20231129.131405.231062/output...\n",
      "Removing temp directory /tmp/longestphrase.root.20231129.131405.231062...\n"
     ]
    }
   ],
   "source": [
    "!python3 longestphrase.py SW_EpisodeIV.txt > out21.csv"
   ]
  },
  {
   "cell_type": "code",
   "execution_count": 6,
   "id": "04319b88-9641-4b64-a0d2-a2cc6925510f",
   "metadata": {},
   "outputs": [
    {
     "name": "stdout",
     "output_type": "stream",
     "text": [
      "No configs found; falling back on auto-configuration\n",
      "No configs specified for inline runner\n",
      "Creating temp directory /tmp/longestphrase.root.20231129.131405.654237\n",
      "Running step 1 of 2...\n",
      "Running step 2 of 2...\n",
      "job output is in /tmp/longestphrase.root.20231129.131405.654237/output\n",
      "Streaming final output from /tmp/longestphrase.root.20231129.131405.654237/output...\n",
      "Removing temp directory /tmp/longestphrase.root.20231129.131405.654237...\n"
     ]
    }
   ],
   "source": [
    "!python3 longestphrase.py SW_EpisodeV.txt > out22.csv"
   ]
  },
  {
   "cell_type": "code",
   "execution_count": 7,
   "id": "c58da4a8-408d-4e7c-a5be-7ab5d038b5dd",
   "metadata": {},
   "outputs": [
    {
     "name": "stdout",
     "output_type": "stream",
     "text": [
      "No configs found; falling back on auto-configuration\n",
      "No configs specified for inline runner\n",
      "Creating temp directory /tmp/longestphrase.root.20231129.131406.070977\n",
      "Running step 1 of 2...\n",
      "Running step 2 of 2...\n",
      "job output is in /tmp/longestphrase.root.20231129.131406.070977/output\n",
      "Streaming final output from /tmp/longestphrase.root.20231129.131406.070977/output...\n",
      "Removing temp directory /tmp/longestphrase.root.20231129.131406.070977...\n"
     ]
    }
   ],
   "source": [
    "!python3 longestphrase.py SW_EpisodeVI.txt > out23.csv"
   ]
  },
  {
   "cell_type": "markdown",
   "id": "d3bd07c2-9fd7-4e22-889b-e2658c31c4f4",
   "metadata": {},
   "source": [
    "Теперь с помощью Пандаса найдем самые длинные фразы во всех трех файлах"
   ]
  },
  {
   "cell_type": "code",
   "execution_count": 8,
   "id": "7c2e643d-9966-4375-a5fd-798b06247071",
   "metadata": {},
   "outputs": [],
   "source": [
    "df1 = pd.read_csv('out21.csv', sep='\\t', names=['name', 'phrase'], index_col=['name'])\n",
    "df2 = pd.read_csv('out22.csv', sep='\\t', names=['name', 'phrase'], index_col=['name'])\n",
    "df3 = pd.read_csv('out23.csv', sep='\\t', names=['name', 'phrase'], index_col=['name'])"
   ]
  },
  {
   "cell_type": "markdown",
   "id": "96bccd38-296d-448f-bf95-788f81846f9a",
   "metadata": {},
   "source": [
    "Выделим в отдельную колонку максимальную длину фразы для каждого персонажа"
   ]
  },
  {
   "cell_type": "code",
   "execution_count": 9,
   "id": "52abb38c-df88-4725-8598-cc7f3aa005d5",
   "metadata": {},
   "outputs": [],
   "source": [
    "import ast\n",
    "\n",
    "df1['max_len'] = df1['phrase'].apply(lambda x: ast.literal_eval(x)[0])\n",
    "df2['max_len'] = df2['phrase'].apply(lambda x: ast.literal_eval(x)[0])\n",
    "df3['max_len'] = df3['phrase'].apply(lambda x: ast.literal_eval(x)[0])"
   ]
  },
  {
   "cell_type": "markdown",
   "id": "f2a25274-6471-49bd-8c1f-62e65ae13cc1",
   "metadata": {},
   "source": [
    "Строим график для каждого эпизода"
   ]
  },
  {
   "cell_type": "code",
   "execution_count": 10,
   "id": "eab30061-1d31-4d1e-91aa-c8a3bbd39301",
   "metadata": {},
   "outputs": [
    {
     "data": {
      "text/plain": [
       "<Axes: xlabel='name'>"
      ]
     },
     "execution_count": 10,
     "metadata": {},
     "output_type": "execute_result"
    },
    {
     "data": {
      "image/png": "[encoded data removed]",
      "text/plain": [
       "<Figure size 640x480 with 1 Axes>"
      ]
     },
     "metadata": {},
     "output_type": "display_data"
    }
   ],
   "source": [
    "df1['max_len'].sort_values(ascending=False)[:20].plot(kind='bar')"
   ]
  },
  {
   "cell_type": "code",
   "execution_count": 11,
   "id": "9a3db0ac-bf39-482a-a46c-4ccf9a9288ae",
   "metadata": {},
   "outputs": [
    {
     "data": {
      "text/plain": [
       "<Axes: xlabel='name'>"
      ]
     },
     "execution_count": 11,
     "metadata": {},
     "output_type": "execute_result"
    },
    {
     "data": {
      "image/png": "[encoded data removed]",
      "text/plain": [
       "<Figure size 640x480 with 1 Axes>"
      ]
     },
     "metadata": {},
     "output_type": "display_data"
    }
   ],
   "source": [
    "df2['max_len'].sort_values(ascending=False)[:20].plot(kind='bar')"
   ]
  },
  {
   "cell_type": "code",
   "execution_count": 12,
   "id": "baea2796-ebcf-42d6-a051-de9f3ceae19b",
   "metadata": {},
   "outputs": [
    {
     "data": {
      "text/plain": [
       "<Axes: xlabel='name'>"
      ]
     },
     "execution_count": 12,
     "metadata": {},
     "output_type": "execute_result"
    },
    {
     "data": {
      "image/png": "[encoded data removed]",
      "text/plain": [
       "<Figure size 640x480 with 1 Axes>"
      ]
     },
     "metadata": {},
     "output_type": "display_data"
    }
   ],
   "source": [
    "df3['max_len'].sort_values(ascending=False)[:20].plot(kind='bar')"
   ]
  },
  {
   "cell_type": "markdown",
   "id": "0b87ef7d-6ec9-4693-ac2c-c7f6f1014ce2",
   "metadata": {},
   "source": [
    "Построим общий график"
   ]
  },
  {
   "cell_type": "code",
   "execution_count": 13,
   "id": "e988546d-3d34-433b-8d5a-953f9ece43bf",
   "metadata": {},
   "outputs": [
    {
     "data": {
      "text/plain": [
       "<Axes: xlabel='name'>"
      ]
     },
     "execution_count": 13,
     "metadata": {},
     "output_type": "execute_result"
    },
    {
     "data": {
      "image/png": "[encoded data removed]",
      "text/plain": [
       "<Figure size 640x480 with 1 Axes>"
      ]
     },
     "metadata": {},
     "output_type": "display_data"
    }
   ],
   "source": [
    "concatenated_df = pd.concat([df1, df2, df3])\n",
    "result_df = concatenated_df.groupby(concatenated_df.index)['max_len'].max()\n",
    "result_df.sort_values(ascending=False)[:20].plot(kind='bar')"
   ]
  },
  {
   "cell_type": "markdown",
   "id": "6b932843-763c-4854-83e2-a797ad2cbafe",
   "metadata": {},
   "source": [
    "Как видно самый говорящий это Бен."
   ]
  },
  {
   "cell_type": "code",
   "execution_count": 14,
   "id": "c7d49f5e-c53a-4648-8dd3-74457e6ce98f",
   "metadata": {},
   "outputs": [
    {
     "name": "stdout",
     "output_type": "stream",
     "text": [
      "the organa household was high-born and politically quite powerful in that system leia became a princess by virtue of lineage no one knew shed been adopted of course but it was a title without real power since alderaan had long been a democracy even so the family continued to be politically powerful and leia following in her foster fathers path became a senator as well thats not all she became of course she became the leader of her cell in the alliance against the corrupt empire and because she had diplomatic immunity she was a vital link for getting information to the rebel cause thats what she was doing when her path crossed yours for her foster parents had always told her to contact me on tatooine if her troubles became desperate\n"
     ]
    }
   ],
   "source": [
    "max_phrase = ast.literal_eval(concatenated_df.iloc[concatenated_df['max_len'].argmax()]['phrase'])[1]\n",
    "print(max_phrase)"
   ]
  },
  {
   "cell_type": "markdown",
   "id": "dd1a2956-85a6-474c-a054-a69aac70d9ca",
   "metadata": {},
   "source": [
    "Запускаем на кластере"
   ]
  },
  {
   "cell_type": "code",
   "execution_count": 15,
   "id": "082d0149-d9a9-4836-8537-acd511680fe8",
   "metadata": {},
   "outputs": [
    {
     "name": "stdout",
     "output_type": "stream",
     "text": [
      "Looking for hadoop binary in /opt/hadoop/bin...\n",
      "Found hadoop binary: /opt/hadoop/bin/hadoop\n",
      "Using Hadoop version 3.3.6\n",
      "Looking for Hadoop streaming jar in /opt/hadoop...\n",
      "Found Hadoop streaming jar: /opt/hadoop/share/hadoop/tools/lib/hadoop-streaming-3.3.6.jar\n",
      "Creating temp directory /tmp/longestphrase.root.20231129.131407.645104\n",
      "uploading working dir files to hdfs:///user/root/tmp/mrjob/longestphrase.root.20231129.131407.645104/files/wd...\n",
      "Copying other local files to hdfs:///user/root/tmp/mrjob/longestphrase.root.20231129.131407.645104/files/\n",
      "Running step 1 of 2...\n",
      "  packageJobJar: [/tmp/hadoop-unjar3704363163060479477/] [] /tmp/streamjob6979574843176993232.jar tmpDir=null\n",
      "  Connecting to ResourceManager at resourcemanager/172.21.0.4:8032\n",
      "  Connecting to ResourceManager at resourcemanager/172.21.0.4:8032\n",
      "  Disabling Erasure Coding for path: /tmp/hadoop-yarn/staging/root/.staging/job_1700575720544_0037\n",
      "  Total input files to process : 1\n",
      "  number of splits:2\n",
      "  Submitting tokens for job: job_1700575720544_0037\n",
      "  Executing with tokens: []\n",
      "  resource-types.xml not found\n",
      "  Unable to find 'resource-types.xml'.\n",
      "  Submitted application application_1700575720544_0037\n",
      "  The url to track the job: http://resourcemanager:8088/proxy/application_1700575720544_0037/\n",
      "  Running job: job_1700575720544_0037\n",
      "  Job job_1700575720544_0037 running in uber mode : false\n",
      "   map 0% reduce 0%\n",
      "   map 50% reduce 0%\n",
      "   map 100% reduce 0%\n",
      "   map 100% reduce 50%\n",
      "   map 100% reduce 100%\n",
      "  Job job_1700575720544_0037 completed successfully\n",
      "  Output directory: hdfs:///user/root/tmp/mrjob/longestphrase.root.20231129.131407.645104/step-output/0000\n",
      "Counters: 55\n",
      "\tFile Input Format Counters \n",
      "\t\tBytes Read=82374\n",
      "\tFile Output Format Counters \n",
      "\t\tBytes Written=8063\n",
      "\tFile System Counters\n",
      "\t\tFILE: Number of bytes read=76531\n",
      "\t\tFILE: Number of bytes written=1284312\n",
      "\t\tFILE: Number of large read operations=0\n",
      "\t\tFILE: Number of read operations=0\n",
      "\t\tFILE: Number of write operations=0\n",
      "\t\tHDFS: Number of bytes read=82560\n",
      "\t\tHDFS: Number of bytes read erasure-coded=0\n",
      "\t\tHDFS: Number of bytes written=8063\n",
      "\t\tHDFS: Number of large read operations=0\n",
      "\t\tHDFS: Number of read operations=16\n",
      "\t\tHDFS: Number of write operations=4\n",
      "\tJob Counters \n",
      "\t\tKilled reduce tasks=1\n",
      "\t\tLaunched map tasks=2\n",
      "\t\tLaunched reduce tasks=2\n",
      "\t\tRack-local map tasks=2\n",
      "\t\tTotal megabyte-milliseconds taken by all map tasks=10743808\n",
      "\t\tTotal megabyte-milliseconds taken by all reduce tasks=11030528\n",
      "\t\tTotal time spent by all map tasks (ms)=10492\n",
      "\t\tTotal time spent by all maps in occupied slots (ms)=20984\n",
      "\t\tTotal time spent by all reduce tasks (ms)=10772\n",
      "\t\tTotal time spent by all reduces in occupied slots (ms)=21544\n",
      "\t\tTotal vcore-milliseconds taken by all map tasks=10492\n",
      "\t\tTotal vcore-milliseconds taken by all reduce tasks=10772\n",
      "\tMap-Reduce Framework\n",
      "\t\tCPU time spent (ms)=3720\n",
      "\t\tCombine input records=0\n",
      "\t\tCombine output records=0\n",
      "\t\tFailed Shuffles=0\n",
      "\t\tGC time elapsed (ms)=356\n",
      "\t\tInput split bytes=186\n",
      "\t\tMap input records=1011\n",
      "\t\tMap output bytes=74376\n",
      "\t\tMap output materialized bytes=76543\n",
      "\t\tMap output records=1011\n",
      "\t\tMerged Map outputs=4\n",
      "\t\tPeak Map Physical memory (bytes)=263032832\n",
      "\t\tPeak Map Virtual memory (bytes)=2592821248\n",
      "\t\tPeak Reduce Physical memory (bytes)=262864896\n",
      "\t\tPeak Reduce Virtual memory (bytes)=2598711296\n",
      "\t\tPhysical memory (bytes) snapshot=1047871488\n",
      "\t\tReduce input groups=49\n",
      "\t\tReduce input records=1011\n",
      "\t\tReduce output records=49\n",
      "\t\tReduce shuffle bytes=76543\n",
      "\t\tShuffled Maps =4\n",
      "\t\tSpilled Records=2022\n",
      "\t\tTotal committed heap usage (bytes)=944242688\n",
      "\t\tVirtual memory (bytes) snapshot=10382712832\n",
      "\tShuffle Errors\n",
      "\t\tBAD_ID=0\n",
      "\t\tCONNECTION=0\n",
      "\t\tIO_ERROR=0\n",
      "\t\tWRONG_LENGTH=0\n",
      "\t\tWRONG_MAP=0\n",
      "\t\tWRONG_REDUCE=0\n",
      "Running step 2 of 2...\n",
      "  packageJobJar: [/tmp/hadoop-unjar2619721108048819681/] [] /tmp/streamjob83312649723454190.jar tmpDir=null\n",
      "  Connecting to ResourceManager at resourcemanager/172.21.0.4:8032\n",
      "  Connecting to ResourceManager at resourcemanager/172.21.0.4:8032\n",
      "  Disabling Erasure Coding for path: /tmp/hadoop-yarn/staging/root/.staging/job_1700575720544_0038\n",
      "  Total input files to process : 2\n",
      "  number of splits:2\n",
      "  Submitting tokens for job: job_1700575720544_0038\n",
      "  Executing with tokens: []\n",
      "  resource-types.xml not found\n",
      "  Unable to find 'resource-types.xml'.\n",
      "  Submitted application application_1700575720544_0038\n",
      "  The url to track the job: http://resourcemanager:8088/proxy/application_1700575720544_0038/\n",
      "  Running job: job_1700575720544_0038\n",
      "  Job job_1700575720544_0038 running in uber mode : false\n",
      "   map 0% reduce 0%\n",
      "   map 100% reduce 0%\n",
      "   map 100% reduce 50%\n",
      "   map 100% reduce 100%\n",
      "  Job job_1700575720544_0038 completed successfully\n",
      "  Output directory: hdfs:///hw1/output21\n",
      "Counters: 55\n",
      "\tFile Input Format Counters \n",
      "\t\tBytes Read=8063\n",
      "\tFile Output Format Counters \n",
      "\t\tBytes Written=7769\n",
      "\tFile System Counters\n",
      "\t\tFILE: Number of bytes read=8235\n",
      "\t\tFILE: Number of bytes written=1147300\n",
      "\t\tFILE: Number of large read operations=0\n",
      "\t\tFILE: Number of read operations=0\n",
      "\t\tFILE: Number of write operations=0\n",
      "\t\tHDFS: Number of bytes read=8377\n",
      "\t\tHDFS: Number of bytes read erasure-coded=0\n",
      "\t\tHDFS: Number of bytes written=7769\n",
      "\t\tHDFS: Number of large read operations=0\n",
      "\t\tHDFS: Number of read operations=16\n",
      "\t\tHDFS: Number of write operations=4\n",
      "\tJob Counters \n",
      "\t\tKilled map tasks=1\n",
      "\t\tLaunched map tasks=2\n",
      "\t\tLaunched reduce tasks=2\n",
      "\t\tRack-local map tasks=2\n",
      "\t\tTotal megabyte-milliseconds taken by all map tasks=9555968\n",
      "\t\tTotal megabyte-milliseconds taken by all reduce tasks=10941440\n",
      "\t\tTotal time spent by all map tasks (ms)=9332\n",
      "\t\tTotal time spent by all maps in occupied slots (ms)=18664\n",
      "\t\tTotal time spent by all reduce tasks (ms)=10685\n",
      "\t\tTotal time spent by all reduces in occupied slots (ms)=21370\n",
      "\t\tTotal vcore-milliseconds taken by all map tasks=9332\n",
      "\t\tTotal vcore-milliseconds taken by all reduce tasks=10685\n",
      "\tMap-Reduce Framework\n",
      "\t\tCPU time spent (ms)=3470\n",
      "\t\tCombine input records=0\n",
      "\t\tCombine output records=0\n",
      "\t\tFailed Shuffles=0\n",
      "\t\tGC time elapsed (ms)=342\n",
      "\t\tInput split bytes=314\n",
      "\t\tMap input records=49\n",
      "\t\tMap output bytes=8094\n",
      "\t\tMap output materialized bytes=8247\n",
      "\t\tMap output records=49\n",
      "\t\tMerged Map outputs=4\n",
      "\t\tPeak Map Physical memory (bytes)=261771264\n",
      "\t\tPeak Map Virtual memory (bytes)=2593558528\n",
      "\t\tPeak Reduce Physical memory (bytes)=262844416\n",
      "\t\tPeak Reduce Virtual memory (bytes)=2599690240\n",
      "\t\tPhysical memory (bytes) snapshot=1046413312\n",
      "\t\tReduce input groups=1\n",
      "\t\tReduce input records=49\n",
      "\t\tReduce output records=49\n",
      "\t\tReduce shuffle bytes=8247\n",
      "\t\tShuffled Maps =4\n",
      "\t\tSpilled Records=98\n",
      "\t\tTotal committed heap usage (bytes)=833617920\n",
      "\t\tVirtual memory (bytes) snapshot=10382331904\n",
      "\tShuffle Errors\n",
      "\t\tBAD_ID=0\n",
      "\t\tCONNECTION=0\n",
      "\t\tIO_ERROR=0\n",
      "\t\tWRONG_LENGTH=0\n",
      "\t\tWRONG_MAP=0\n",
      "\t\tWRONG_REDUCE=0\n",
      "job output is in hdfs:///hw1/output21\n",
      "Removing HDFS temp directory hdfs:///user/root/tmp/mrjob/longestphrase.root.20231129.131407.645104...\n",
      "Removing temp directory /tmp/longestphrase.root.20231129.131407.645104...\n"
     ]
    }
   ],
   "source": [
    "!python3 longestphrase.py -r hadoop hdfs://namenode:8020/hw1/SW_EpisodeIV.txt --conf-path config.conf --output /hw1/output21"
   ]
  },
  {
   "cell_type": "code",
   "execution_count": 16,
   "id": "507c7926-20fd-419d-bac3-9ed6f0164832",
   "metadata": {},
   "outputs": [
    {
     "name": "stdout",
     "output_type": "stream",
     "text": [
      "\"leia\"\t[574, \"general kenobi years ago you served my father in the clone wars now he begs you to help him in his struggle against the empire i regret that i am unable to present my fathers request to you in person but my ship has fallen under attack and im afraid my mission to bring you to alderaan has failed i have placed information vital to the survival of the rebellion into the memory systems of this r2 unit my father will know how to retrieve it you must see this droid safely delivered to him on alderaan this is our most desperate hour help me obi-wan kenobi youre my only hope\"]\n",
      "\"dodonna\"\t[340, \"the approach will not be easy you are required to maneuver straight down this trench and skim the surface to this point the target area is only two meters wide its a small thermal exhaust port right below the main port the shaft leads directly to the reactor system a precise hit will start a chain reaction which should destroy the station\"]\n",
      "\"biggs\"\t[337, \"i feel for you luke youre going to have to learn what seems to be important or what really is important what good is all your uncles work if its taken over by the empire you know theyre starting to nationalize commerce in the central systemsit wont be long before your uncle is merely a tenant slaving for the greater glory of the empire\"]\n",
      "\"jabba\"\t[316, \"put your blasters away han my boy im only doing this because youre the best and i need you so for an extra say twenty percent ill give you a little more time but this is it if you disappoint me again ill put a price on your head so large you wont be able to go near a civilized system for the rest of your short life\"]\n",
      "\"luke\"\t[299, \"so i cut off my power shut down the afterburners and came in low on deaks trail i was so close i thought i was going to fry my instruments as it was i busted up the skyhopper pretty bad uncle owen was pretty upset he grounded me for the rest of the season you should have been there it was fantastic\"]\n",
      "\"tarkin\"\t[290, \"not after we demonstrate the power of this station in a way you have determined the choice of the planet thatll be destroyed first since you are reluctant to provide us with the location of the rebel base i have chosen to test this stations destructive power on your home planet of alderaan\"]\n",
      "\"threepio\"\t[271, \"he says hes the property of obi-wan kenobi a resident of these parts and its a private message for him quite frankly sir i dont know what hes talking about our last master was captain antilles but with what weve been through this little r2 unit has become a bit eccentric\"]\n",
      "\"ben\"\t[253, \"a young jedi named darth vader who was a pupil of mine until he turned to evil helped the empire hunt down and destroy the jedi knights he betrayed and murdered your father now the jedi are all but extinct vader was seduced by the dark side of the force\"]\n",
      "\"vader\"\t[245, \"dont play games with me your highness you werent on any mercy mission this time you passed directly through a restricted system several transmissions were beamed to this ship by rebel spies i want to know what happened to the plans they sent you\"]\n",
      "\"han\"\t[244, \"kid ive flown from one side of this galaxy to the other ive seen a lot of strange stuff but ive never seen anything to make me believe theres one all-powerful force controlling everything theres no mystical energy field that controls my destiny\"]\n",
      "\"motti\"\t[218, \"dont try to frighten us with your sorcerers ways lord vader your sad devotion to that ancient religion has not helped you conjure up the stolen data tapes or given you clairvoyance enough to find the rebels hidden fort\"]\n",
      "\"officer\"\t[211, \"cass our scout ships have reached dantooine they found the remains of a rebel base but they estimate that it has been deserted for some time they are now conducting an extensive search of the surrounding systems\"]\n",
      "\"greedo\"\t[192, \"its too late you should have paid him when you had the chance jabbas put a price on your head so large that every bounty hunter in the galaxy will be looking for you im lucky i found you first\"]\n",
      "\"owen\"\t[182, \"harvest is when i need you the most only one more season this year well make enough on the harvest so ill be able to hire some more hands and then you can go to the academy next year\"]\n",
      "\"second\"\t[178, \"officer lord vader the battle station plans are not aboard this ship and no transmissions were made an escape pod was jettisoned during the fighting but no life forms were aboard\"]\n",
      "\"tagge\"\t[177, \"and what of the rebellion if the rebels have obtained a complete technical readout of this station it is possible however unlikely that they might find a weakness and exploit it\"]\n",
      "\"fixer\"\t[168, \"i keep telling you the rebellion is a long way from here i doubt if the empire would even fight to keep this system believe me luke this planet is a big hunk of nothing\"]\n",
      "\"red\"\t[162, \"leader i met your father once when i was just a boy he was a great pilot youll do all right if youve got half of your fathers skill youll do better than all right\"]\n",
      "\"voice\"\t[143, \"weve captured a freighter entering the remains of the alderaan system its markings match those of a ship that blasted its way out of mos eisley\"]\n",
      "\"death\"\t[136, \"star intercom voice we are approaching the planet yavin the rebel base is on a moon on the far side we are preparing to orbit the planet\"]\n",
      "\"commander\"\t[108, \"holding her is dangerous if word of this gets out it could generate sympathy for the rebellion in the senate\"]\n",
      "\"massassi\"\t[99, \"intercom voice stand-by alert death star approaching estimated time to firing range fifteen minutes\"]\n",
      "\"human\"\t[98, \"dont insult us you just watch yourself were wanted men i have the death sentence on twelve systems\"]\n",
      "\"rebel\"\t[97, \"officer we intercepted no transmissions aaah this is a consular ship were on a diplomatic mission\"]\n",
      "\"wedge\"\t[93, \"my scope shows the tower but i cant see the exhaust port are you sure the computer can hit it\"]\n",
      "\"trooper\"\t[92, \"the ships all yours if the scanners pick up anything report it immediately all right lets go\"]\n",
      "\"imperial\"\t[92, \"officer the final check-out is complete all systems are operational what course shall we set\"]\n",
      "\"control\"\t[90, \"officer squad leaders weve picked up a new group of signals enemy fighters coming your way\"]\n",
      "\"astro-officer\"\t[90, \"we count thirty rebel ships lord vader but theyre so small theyre evading our turbo-lasers\"]\n",
      "\"aunt\"\t[89, \"beru owen he cant stay here forever most of his friends have gone it means so much to him\"]\n",
      "\"gold\"\t[88, \"leader pardon me for asking sir but what good are snub fighters going to be against that\"]\n",
      "\"willard\"\t[85, \"when we heard about alderaan we were afraid that you were lost along with your father\"]\n",
      "\"intercom\"\t[83, \"voice governor tarkin we have an emergency alert in detention block aa-twenty-three\"]\n",
      "\"base\"\t[81, \"voice his computers off luke you switched off your targeting computer whats wrong\"]\n",
      "\"gantry\"\t[78, \"officer tx-four-one-two why arent you at your post tx-four-one-two do you copy\"]\n",
      "\"captain\"\t[72, \"hold your fire there are no life forms it must have been short-circuited\"]\n",
      "\"man\"\t[71, \"all flight troops man your stations all flight troops man your stations\"]\n",
      "\"beru\"\t[70, \"luke tell owen that if he gets a translator to be sure it speaks bocce\"]\n",
      "\"first\"\t[66, \"trooper someone was in the pod the tracks go off in this direction\"]\n",
      "\"chief\"\t[62, \"this r2 unit of your seems a bit beat up do you want a new one\"]\n",
      "\"bartender\"\t[62, \"your droids theyll have to wait outside we dont want them here\"]\n",
      "\"camie\"\t[37, \"it was just wormie on another rampage\"]\n",
      "\"technician\"\t[34, \"well get to work on him right away\"]\n",
      "\"woman\"\t[30, \"ive told you kids to slow down\"]\n",
      "\"creature\"\t[25, \"negola dewaghi wooldugger\"]\n",
      "\"deak\"\t[19, \"not again forget it\"]\n",
      "\"porkins\"\t[19, \"red six standing by\"]\n",
      "\"wingman\"\t[8, \"look out\"]\n",
      "\"dialogue\"\t[0, \"\"]\n"
     ]
    }
   ],
   "source": [
    "!hadoop fs -cat /hw1/output21/part-00000"
   ]
  },
  {
   "cell_type": "code",
   "execution_count": 17,
   "id": "c468bbef-adf5-4b18-979a-f742c68c6603",
   "metadata": {},
   "outputs": [
    {
     "name": "stdout",
     "output_type": "stream",
     "text": [
      "Looking for hadoop binary in /opt/hadoop/bin...\n",
      "Found hadoop binary: /opt/hadoop/bin/hadoop\n",
      "Using Hadoop version 3.3.6\n",
      "Looking for Hadoop streaming jar in /opt/hadoop...\n",
      "Found Hadoop streaming jar: /opt/hadoop/share/hadoop/tools/lib/hadoop-streaming-3.3.6.jar\n",
      "Creating temp directory /tmp/longestphrase.root.20231129.131550.367440\n",
      "uploading working dir files to hdfs:///user/root/tmp/mrjob/longestphrase.root.20231129.131550.367440/files/wd...\n",
      "Copying other local files to hdfs:///user/root/tmp/mrjob/longestphrase.root.20231129.131550.367440/files/\n",
      "Running step 1 of 2...\n",
      "  packageJobJar: [/tmp/hadoop-unjar4436480530430215322/] [] /tmp/streamjob6162622744837216299.jar tmpDir=null\n",
      "  Connecting to ResourceManager at resourcemanager/172.21.0.4:8032\n",
      "  Connecting to ResourceManager at resourcemanager/172.21.0.4:8032\n",
      "  Disabling Erasure Coding for path: /tmp/hadoop-yarn/staging/root/.staging/job_1700575720544_0039\n",
      "  Total input files to process : 1\n",
      "  number of splits:2\n",
      "  Submitting tokens for job: job_1700575720544_0039\n",
      "  Executing with tokens: []\n",
      "  resource-types.xml not found\n",
      "  Unable to find 'resource-types.xml'.\n",
      "  Submitted application application_1700575720544_0039\n",
      "  The url to track the job: http://resourcemanager:8088/proxy/application_1700575720544_0039/\n",
      "  Running job: job_1700575720544_0039\n",
      "  Job job_1700575720544_0039 running in uber mode : false\n",
      "   map 0% reduce 0%\n",
      "   map 50% reduce 0%\n",
      "   map 100% reduce 0%\n",
      "   map 100% reduce 50%\n",
      "   map 100% reduce 100%\n",
      "  Job job_1700575720544_0039 completed successfully\n",
      "  Output directory: hdfs:///user/root/tmp/mrjob/longestphrase.root.20231129.131550.367440/step-output/0000\n",
      "Counters: 55\n",
      "\tFile Input Format Counters \n",
      "\t\tBytes Read=59583\n",
      "\tFile Output Format Counters \n",
      "\t\tBytes Written=5381\n",
      "\tFile System Counters\n",
      "\t\tFILE: Number of bytes read=54333\n",
      "\t\tFILE: Number of bytes written=1239912\n",
      "\t\tFILE: Number of large read operations=0\n",
      "\t\tFILE: Number of read operations=0\n",
      "\t\tFILE: Number of write operations=0\n",
      "\t\tHDFS: Number of bytes read=59767\n",
      "\t\tHDFS: Number of bytes read erasure-coded=0\n",
      "\t\tHDFS: Number of bytes written=5381\n",
      "\t\tHDFS: Number of large read operations=0\n",
      "\t\tHDFS: Number of read operations=16\n",
      "\t\tHDFS: Number of write operations=4\n",
      "\tJob Counters \n",
      "\t\tKilled reduce tasks=1\n",
      "\t\tLaunched map tasks=2\n",
      "\t\tLaunched reduce tasks=2\n",
      "\t\tRack-local map tasks=2\n",
      "\t\tTotal megabyte-milliseconds taken by all map tasks=10421248\n",
      "\t\tTotal megabyte-milliseconds taken by all reduce tasks=10567680\n",
      "\t\tTotal time spent by all map tasks (ms)=10177\n",
      "\t\tTotal time spent by all maps in occupied slots (ms)=20354\n",
      "\t\tTotal time spent by all reduce tasks (ms)=10320\n",
      "\t\tTotal time spent by all reduces in occupied slots (ms)=20640\n",
      "\t\tTotal vcore-milliseconds taken by all map tasks=10177\n",
      "\t\tTotal vcore-milliseconds taken by all reduce tasks=10320\n",
      "\tMap-Reduce Framework\n",
      "\t\tCPU time spent (ms)=3640\n",
      "\t\tCombine input records=0\n",
      "\t\tCombine output records=0\n",
      "\t\tFailed Shuffles=0\n",
      "\t\tGC time elapsed (ms)=281\n",
      "\t\tInput split bytes=184\n",
      "\t\tMap input records=840\n",
      "\t\tMap output bytes=52589\n",
      "\t\tMap output materialized bytes=54345\n",
      "\t\tMap output records=840\n",
      "\t\tMerged Map outputs=4\n",
      "\t\tPeak Map Physical memory (bytes)=264998912\n",
      "\t\tPeak Map Virtual memory (bytes)=2594086912\n",
      "\t\tPeak Reduce Physical memory (bytes)=266891264\n",
      "\t\tPeak Reduce Virtual memory (bytes)=2598772736\n",
      "\t\tPhysical memory (bytes) snapshot=1055330304\n",
      "\t\tReduce input groups=46\n",
      "\t\tReduce input records=840\n",
      "\t\tReduce output records=46\n",
      "\t\tReduce shuffle bytes=54345\n",
      "\t\tShuffled Maps =4\n",
      "\t\tSpilled Records=1680\n",
      "\t\tTotal committed heap usage (bytes)=739246080\n",
      "\t\tVirtual memory (bytes) snapshot=10383634432\n",
      "\tShuffle Errors\n",
      "\t\tBAD_ID=0\n",
      "\t\tCONNECTION=0\n",
      "\t\tIO_ERROR=0\n",
      "\t\tWRONG_LENGTH=0\n",
      "\t\tWRONG_MAP=0\n",
      "\t\tWRONG_REDUCE=0\n",
      "Running step 2 of 2...\n",
      "  packageJobJar: [/tmp/hadoop-unjar1070239714309171322/] [] /tmp/streamjob2880899248060448164.jar tmpDir=null\n",
      "  Connecting to ResourceManager at resourcemanager/172.21.0.4:8032\n",
      "  Connecting to ResourceManager at resourcemanager/172.21.0.4:8032\n",
      "  Disabling Erasure Coding for path: /tmp/hadoop-yarn/staging/root/.staging/job_1700575720544_0040\n",
      "  Total input files to process : 2\n",
      "  number of splits:2\n",
      "  Submitting tokens for job: job_1700575720544_0040\n",
      "  Executing with tokens: []\n",
      "  resource-types.xml not found\n",
      "  Unable to find 'resource-types.xml'.\n",
      "  Submitted application application_1700575720544_0040\n",
      "  The url to track the job: http://resourcemanager:8088/proxy/application_1700575720544_0040/\n",
      "  Running job: job_1700575720544_0040\n",
      "  Job job_1700575720544_0040 running in uber mode : false\n",
      "   map 0% reduce 0%\n",
      "   map 100% reduce 0%\n",
      "   map 100% reduce 50%\n",
      "   map 100% reduce 100%\n",
      "  Job job_1700575720544_0040 completed successfully\n",
      "  Output directory: hdfs:///hw1/output22\n",
      "Counters: 55\n",
      "\tFile Input Format Counters \n",
      "\t\tBytes Read=5381\n",
      "\tFile Output Format Counters \n",
      "\t\tBytes Written=5105\n",
      "\tFile System Counters\n",
      "\t\tFILE: Number of bytes read=5517\n",
      "\t\tFILE: Number of bytes written=1141872\n",
      "\t\tFILE: Number of large read operations=0\n",
      "\t\tFILE: Number of read operations=0\n",
      "\t\tFILE: Number of write operations=0\n",
      "\t\tHDFS: Number of bytes read=5695\n",
      "\t\tHDFS: Number of bytes read erasure-coded=0\n",
      "\t\tHDFS: Number of bytes written=5105\n",
      "\t\tHDFS: Number of large read operations=0\n",
      "\t\tHDFS: Number of read operations=16\n",
      "\t\tHDFS: Number of write operations=4\n",
      "\tJob Counters \n",
      "\t\tKilled reduce tasks=1\n",
      "\t\tLaunched map tasks=2\n",
      "\t\tLaunched reduce tasks=2\n",
      "\t\tRack-local map tasks=2\n",
      "\t\tTotal megabyte-milliseconds taken by all map tasks=9398272\n",
      "\t\tTotal megabyte-milliseconds taken by all reduce tasks=10157056\n",
      "\t\tTotal time spent by all map tasks (ms)=9178\n",
      "\t\tTotal time spent by all maps in occupied slots (ms)=18356\n",
      "\t\tTotal time spent by all reduce tasks (ms)=9919\n",
      "\t\tTotal time spent by all reduces in occupied slots (ms)=19838\n",
      "\t\tTotal vcore-milliseconds taken by all map tasks=9178\n",
      "\t\tTotal vcore-milliseconds taken by all reduce tasks=9919\n",
      "\tMap-Reduce Framework\n",
      "\t\tCPU time spent (ms)=3180\n",
      "\t\tCombine input records=0\n",
      "\t\tCombine output records=0\n",
      "\t\tFailed Shuffles=0\n",
      "\t\tGC time elapsed (ms)=315\n",
      "\t\tInput split bytes=314\n",
      "\t\tMap input records=46\n",
      "\t\tMap output bytes=5397\n",
      "\t\tMap output materialized bytes=5529\n",
      "\t\tMap output records=46\n",
      "\t\tMerged Map outputs=4\n",
      "\t\tPeak Map Physical memory (bytes)=268312576\n",
      "\t\tPeak Map Virtual memory (bytes)=2593820672\n",
      "\t\tPeak Reduce Physical memory (bytes)=259698688\n",
      "\t\tPeak Reduce Virtual memory (bytes)=2598604800\n",
      "\t\tPhysical memory (bytes) snapshot=1049550848\n",
      "\t\tReduce input groups=1\n",
      "\t\tReduce input records=46\n",
      "\t\tReduce output records=46\n",
      "\t\tReduce shuffle bytes=5529\n",
      "\t\tShuffled Maps =4\n",
      "\t\tSpilled Records=92\n",
      "\t\tTotal committed heap usage (bytes)=835190784\n",
      "\t\tVirtual memory (bytes) snapshot=10382528512\n",
      "\tShuffle Errors\n",
      "\t\tBAD_ID=0\n",
      "\t\tCONNECTION=0\n",
      "\t\tIO_ERROR=0\n",
      "\t\tWRONG_LENGTH=0\n",
      "\t\tWRONG_MAP=0\n",
      "\t\tWRONG_REDUCE=0\n",
      "job output is in hdfs:///hw1/output22\n",
      "Removing HDFS temp directory hdfs:///user/root/tmp/mrjob/longestphrase.root.20231129.131550.367440...\n",
      "Removing temp directory /tmp/longestphrase.root.20231129.131550.367440...\n"
     ]
    }
   ],
   "source": [
    "!python3 longestphrase.py -r hadoop hdfs://namenode:8020/hw1/SW_EpisodeV.txt --conf-path config.conf --output /hw1/output22"
   ]
  },
  {
   "cell_type": "code",
   "execution_count": 18,
   "id": "14193102-f0b7-4583-baac-5514ddb299be",
   "metadata": {},
   "outputs": [
    {
     "name": "stdout",
     "output_type": "stream",
     "text": [
      "\"yoda\"\t[364, \"ready are you what know you of ready for eight hundred years have i trained jedi my own counsel will i keep on who is to be trained a jedi must have the deepest commitment the most serious mind this one a long time have i watched never his mind on where he was hmm what he was doing hmph adventure heh excitement heh a jedi craves not these things you are reckless\"]\n",
      "\"vader\"\t[260, \"there is no escape dont make me destroy you you do not yet realize your importance you have only begun to discover you power join me and i will complete your training with our combined strength we can end this destructive conflict and bring order to the galaxy\"]\n",
      "\"leia\"\t[256, \"all troop carriers will assemble at the north entrance the heavy transport ships will leave as soon as theyre loaded only two fighter escorts per ship the energy shield can only be opened for a short time so youll have to stay very close to your transports\"]\n",
      "\"threepio\"\t[226, \"dont try to blame me i didnt ask you to turn on the thermal heater i merely commented that it was freezing in the princesss chamber but its supposed to be freezing how are we going to dry out all her clothes i really dont know\"]\n",
      "\"veers\"\t[200, \"my lord the fleet has moves out of light-speed com-scan has detected an energy field protecting an area around the sixth planet of the hoth system the field is strong enough to deflect any bombardment\"]\n",
      "\"lando\"\t[199, \"thats always been a danger looming like a shadow over everything weve built here but things have developed that will insure security ive just made a deal that will keep the empire out of here forever\"]\n",
      "\"luke\"\t[180, \"if youre saying coming here was a bad idea im beginning to agree with you oh artoo what are we doing here its like something out of a dream or i dont know maybe im just going crazy\"]\n",
      "\"piett\"\t[170, \"lord vader our ships have completed their scan of the area and found nothing if the millennium falcon went into light-speed itll be on the other side of the galaxy by now\"]\n",
      "\"rebel\"\t[161, \"captain groups seven and ten will stay behind to fly the speeders as soon as each transport is loaded evacuation control will give clearance for immediate launch\"]\n",
      "\"needa\"\t[150, \"and that lord vader was the last time they appeared in any of our scopes considering the amount of damage weve sustained they must have been destroyed\"]\n",
      "\"han\"\t[141, \"yeah thats what i thought mynock chewie check the rest of the ship make sure there arent any more attached theyre chewing on the power cables\"]\n",
      "\"rieekan\"\t[116, \"reroute all power to the energy shield weve got to hold them till all transports are away prepare for ground assault\"]\n",
      "\"ben\"\t[113, \"but you cannot control it this is a dangerous time for you when you will be tempted by the dark side of the force\"]\n",
      "\"zev\"\t[110, \"this is rouge two this is rouge two captain solo so you copy commander skywalker do you copy this is rouge two\"]\n",
      "\"deck\"\t[108, \"officer sir commander skywalker hasnt come in through the south entrance he might have forgotten to check in\"]\n",
      "\"creature\"\t[99, \"not far yoda not far patience soon you will be with him rootleaf i cook why wish you become jedi hm\"]\n",
      "\"derlin\"\t[83, \"your highness theres nothing more we can do tonight the shield doors must be closed\"]\n",
      "\"ozzel\"\t[81, \"my lord there are so many uncharted settlements it could be smugglers it could be\"]\n",
      "\"controller\"\t[81, \"general theres a fleet of star destroyers coming out of hyperspace in sector four\"]\n",
      "\"dack\"\t[76, \"luke weve got a malfunction in fire control ill have to cut in the auxiliary\"]\n",
      "\"lieutenant\"\t[73, \"sir all the patrols are in theres still no contact from skywalker or solo\"]\n",
      "\"second\"\t[72, \"controller sir we have a priority signal from the star destroyer avenger\"]\n",
      "\"emperor\"\t[72, \"the force is strong with him the son of skywalker must not become a jedi\"]\n",
      "\"medical\"\t[67, \"droid sir it will take quite awhile to evacuate the t-forty- sevens\"]\n",
      "\"assistant\"\t[65, \"officer ill cover sector twelve have com-control set screen alpha\"]\n",
      "\"senior\"\t[63, \"controller no wait -- theres something very weak coming through\"]\n",
      "\"tracking\"\t[62, \"officer captain needa the ship no longer appears on our scopes\"]\n",
      "\"intercom\"\t[60, \"voice permission granted to land on platform three-two-seven\"]\n",
      "\"communications\"\t[59, \"officer captain lord vader demands an update on the pursuit\"]\n",
      "\"boba\"\t[52, \"fett what if he doesnt survive hes worth a lot to me\"]\n",
      "\"imperial\"\t[48, \"soldier lord vader ship approaching x-wing class\"]\n",
      "\"announcer\"\t[47, \"headquarters personnel report to command center\"]\n",
      "\"head\"\t[41, \"controller k-one-zeroall troops disengage\"]\n",
      "\"wedge\"\t[40, \"good luck luke see you at the rendezvous\"]\n",
      "\"trench\"\t[40, \"officer we have spotted imperial walkers\"]\n",
      "\"hobbie\"\t[37, \"two fighters against a star destroyer\"]\n",
      "\"woman\"\t[35, \"controller stand by ion controlfire\"]\n",
      "\"captain\"\t[31, \"good our first catch of the day\"]\n",
      "\"pilot\"\t[27, \"one-seven decimal two-eight\"]\n",
      "\"janson\"\t[23, \"coming around once more\"]\n",
      "\"strange\"\t[20, \"voice feel like what\"]\n",
      "\"first\"\t[18, \"controller yes sir\"]\n",
      "\"officer\"\t[13, \"begin retreat\"]\n",
      "\"man\"\t[11, \"who are you\"]\n",
      "\"pilots\"\t[10, \"right okay\"]\n",
      "\"dialogue\"\t[0, \"\"]\n"
     ]
    }
   ],
   "source": [
    "!hadoop fs -cat /hw1/output22/part-00000"
   ]
  },
  {
   "cell_type": "code",
   "execution_count": 19,
   "id": "9679f844-0cbe-4d6b-975d-cde0f60ac542",
   "metadata": {},
   "outputs": [
    {
     "name": "stdout",
     "output_type": "stream",
     "text": [
      "Looking for hadoop binary in /opt/hadoop/bin...\n",
      "Found hadoop binary: /opt/hadoop/bin/hadoop\n",
      "Using Hadoop version 3.3.6\n",
      "Looking for Hadoop streaming jar in /opt/hadoop...\n",
      "Found Hadoop streaming jar: /opt/hadoop/share/hadoop/tools/lib/hadoop-streaming-3.3.6.jar\n",
      "Creating temp directory /tmp/longestphrase.root.20231129.131728.169983\n",
      "uploading working dir files to hdfs:///user/root/tmp/mrjob/longestphrase.root.20231129.131728.169983/files/wd...\n",
      "Copying other local files to hdfs:///user/root/tmp/mrjob/longestphrase.root.20231129.131728.169983/files/\n",
      "Running step 1 of 2...\n",
      "  packageJobJar: [/tmp/hadoop-unjar2287453862935499038/] [] /tmp/streamjob5956526566212424160.jar tmpDir=null\n",
      "  Connecting to ResourceManager at resourcemanager/172.21.0.4:8032\n",
      "  Connecting to ResourceManager at resourcemanager/172.21.0.4:8032\n",
      "  Disabling Erasure Coding for path: /tmp/hadoop-yarn/staging/root/.staging/job_1700575720544_0041\n",
      "  Total input files to process : 1\n",
      "  number of splits:2\n",
      "  Submitting tokens for job: job_1700575720544_0041\n",
      "  Executing with tokens: []\n",
      "  resource-types.xml not found\n",
      "  Unable to find 'resource-types.xml'.\n",
      "  Submitted application application_1700575720544_0041\n",
      "  The url to track the job: http://resourcemanager:8088/proxy/application_1700575720544_0041/\n",
      "  Running job: job_1700575720544_0041\n",
      "  Job job_1700575720544_0041 running in uber mode : false\n",
      "   map 0% reduce 0%\n",
      "   map 100% reduce 0%\n",
      "   map 100% reduce 50%\n",
      "   map 100% reduce 100%\n",
      "  Job job_1700575720544_0041 completed successfully\n",
      "  Output directory: hdfs:///user/root/tmp/mrjob/longestphrase.root.20231129.131728.169983/step-output/0000\n",
      "Counters: 55\n",
      "\tFile Input Format Counters \n",
      "\t\tBytes Read=52272\n",
      "\tFile Output Format Counters \n",
      "\t\tBytes Written=6643\n",
      "\tFile System Counters\n",
      "\t\tFILE: Number of bytes read=47489\n",
      "\t\tFILE: Number of bytes written=1226228\n",
      "\t\tFILE: Number of large read operations=0\n",
      "\t\tFILE: Number of read operations=0\n",
      "\t\tFILE: Number of write operations=0\n",
      "\t\tHDFS: Number of bytes read=52458\n",
      "\t\tHDFS: Number of bytes read erasure-coded=0\n",
      "\t\tHDFS: Number of bytes written=6643\n",
      "\t\tHDFS: Number of large read operations=0\n",
      "\t\tHDFS: Number of read operations=16\n",
      "\t\tHDFS: Number of write operations=4\n",
      "\tJob Counters \n",
      "\t\tKilled reduce tasks=1\n",
      "\t\tLaunched map tasks=2\n",
      "\t\tLaunched reduce tasks=2\n",
      "\t\tRack-local map tasks=2\n",
      "\t\tTotal megabyte-milliseconds taken by all map tasks=10687488\n",
      "\t\tTotal megabyte-milliseconds taken by all reduce tasks=10186752\n",
      "\t\tTotal time spent by all map tasks (ms)=10437\n",
      "\t\tTotal time spent by all maps in occupied slots (ms)=20874\n",
      "\t\tTotal time spent by all reduce tasks (ms)=9948\n",
      "\t\tTotal time spent by all reduces in occupied slots (ms)=19896\n",
      "\t\tTotal vcore-milliseconds taken by all map tasks=10437\n",
      "\t\tTotal vcore-milliseconds taken by all reduce tasks=9948\n",
      "\tMap-Reduce Framework\n",
      "\t\tCPU time spent (ms)=3500\n",
      "\t\tCombine input records=0\n",
      "\t\tCombine output records=0\n",
      "\t\tFailed Shuffles=0\n",
      "\t\tGC time elapsed (ms)=318\n",
      "\t\tInput split bytes=186\n",
      "\t\tMap input records=675\n",
      "\t\tMap output bytes=46061\n",
      "\t\tMap output materialized bytes=47501\n",
      "\t\tMap output records=675\n",
      "\t\tMerged Map outputs=4\n",
      "\t\tPeak Map Physical memory (bytes)=271683584\n",
      "\t\tPeak Map Virtual memory (bytes)=2594168832\n",
      "\t\tPeak Reduce Physical memory (bytes)=260849664\n",
      "\t\tPeak Reduce Virtual memory (bytes)=2599256064\n",
      "\t\tPhysical memory (bytes) snapshot=1055916032\n",
      "\t\tReduce input groups=46\n",
      "\t\tReduce input records=675\n",
      "\t\tReduce output records=46\n",
      "\t\tReduce shuffle bytes=47501\n",
      "\t\tShuffled Maps =4\n",
      "\t\tSpilled Records=1350\n",
      "\t\tTotal committed heap usage (bytes)=733478912\n",
      "\t\tVirtual memory (bytes) snapshot=10384015360\n",
      "\tShuffle Errors\n",
      "\t\tBAD_ID=0\n",
      "\t\tCONNECTION=0\n",
      "\t\tIO_ERROR=0\n",
      "\t\tWRONG_LENGTH=0\n",
      "\t\tWRONG_MAP=0\n",
      "\t\tWRONG_REDUCE=0\n",
      "Running step 2 of 2...\n",
      "  packageJobJar: [/tmp/hadoop-unjar8191282497604210863/] [] /tmp/streamjob5006372698882452737.jar tmpDir=null\n",
      "  Connecting to ResourceManager at resourcemanager/172.21.0.4:8032\n",
      "  Connecting to ResourceManager at resourcemanager/172.21.0.4:8032\n",
      "  Disabling Erasure Coding for path: /tmp/hadoop-yarn/staging/root/.staging/job_1700575720544_0042\n",
      "  Total input files to process : 2\n",
      "  number of splits:3\n",
      "  Submitting tokens for job: job_1700575720544_0042\n",
      "  Executing with tokens: []\n",
      "  resource-types.xml not found\n",
      "  Unable to find 'resource-types.xml'.\n",
      "  Submitted application application_1700575720544_0042\n",
      "  The url to track the job: http://resourcemanager:8088/proxy/application_1700575720544_0042/\n",
      "  Running job: job_1700575720544_0042\n",
      "  Job job_1700575720544_0042 running in uber mode : false\n",
      "   map 0% reduce 0%\n",
      "   map 33% reduce 0%\n",
      "   map 67% reduce 0%\n",
      "   map 100% reduce 0%\n",
      "   map 100% reduce 100%\n",
      "  Job job_1700575720544_0042 completed successfully\n",
      "  Output directory: hdfs:///hw1/output23\n",
      "Counters: 55\n",
      "\tFile Input Format Counters \n",
      "\t\tBytes Read=7049\n",
      "\tFile Output Format Counters \n",
      "\t\tBytes Written=6367\n",
      "\tFile System Counters\n",
      "\t\tFILE: Number of bytes read=6791\n",
      "\t\tFILE: Number of bytes written=1427178\n",
      "\t\tFILE: Number of large read operations=0\n",
      "\t\tFILE: Number of read operations=0\n",
      "\t\tFILE: Number of write operations=0\n",
      "\t\tHDFS: Number of bytes read=7520\n",
      "\t\tHDFS: Number of bytes read erasure-coded=0\n",
      "\t\tHDFS: Number of bytes written=6367\n",
      "\t\tHDFS: Number of large read operations=0\n",
      "\t\tHDFS: Number of read operations=19\n",
      "\t\tHDFS: Number of write operations=4\n",
      "\tJob Counters \n",
      "\t\tKilled reduce tasks=1\n",
      "\t\tLaunched map tasks=3\n",
      "\t\tLaunched reduce tasks=2\n",
      "\t\tRack-local map tasks=3\n",
      "\t\tTotal megabyte-milliseconds taken by all map tasks=14462976\n",
      "\t\tTotal megabyte-milliseconds taken by all reduce tasks=10729472\n",
      "\t\tTotal time spent by all map tasks (ms)=14124\n",
      "\t\tTotal time spent by all maps in occupied slots (ms)=28248\n",
      "\t\tTotal time spent by all reduce tasks (ms)=10478\n",
      "\t\tTotal time spent by all reduces in occupied slots (ms)=20956\n",
      "\t\tTotal vcore-milliseconds taken by all map tasks=14124\n",
      "\t\tTotal vcore-milliseconds taken by all reduce tasks=10478\n",
      "\tMap-Reduce Framework\n",
      "\t\tCPU time spent (ms)=4340\n",
      "\t\tCombine input records=0\n",
      "\t\tCombine output records=0\n",
      "\t\tFailed Shuffles=0\n",
      "\t\tGC time elapsed (ms)=488\n",
      "\t\tInput split bytes=471\n",
      "\t\tMap input records=46\n",
      "\t\tMap output bytes=6665\n",
      "\t\tMap output materialized bytes=6815\n",
      "\t\tMap output records=46\n",
      "\t\tMerged Map outputs=6\n",
      "\t\tPeak Map Physical memory (bytes)=460890112\n",
      "\t\tPeak Map Virtual memory (bytes)=2594816000\n",
      "\t\tPeak Reduce Physical memory (bytes)=263540736\n",
      "\t\tPeak Reduce Virtual memory (bytes)=2601160704\n",
      "\t\tPhysical memory (bytes) snapshot=1512443904\n",
      "\t\tReduce input groups=1\n",
      "\t\tReduce input records=46\n",
      "\t\tReduce output records=46\n",
      "\t\tReduce shuffle bytes=6815\n",
      "\t\tShuffled Maps =6\n",
      "\t\tSpilled Records=92\n",
      "\t\tTotal committed heap usage (bytes)=1200619520\n",
      "\t\tVirtual memory (bytes) snapshot=12979056640\n",
      "\tShuffle Errors\n",
      "\t\tBAD_ID=0\n",
      "\t\tCONNECTION=0\n",
      "\t\tIO_ERROR=0\n",
      "\t\tWRONG_LENGTH=0\n",
      "\t\tWRONG_MAP=0\n",
      "\t\tWRONG_REDUCE=0\n",
      "job output is in hdfs:///hw1/output23\n",
      "Removing HDFS temp directory hdfs:///user/root/tmp/mrjob/longestphrase.root.20231129.131728.169983...\n",
      "Removing temp directory /tmp/longestphrase.root.20231129.131728.169983...\n"
     ]
    }
   ],
   "source": [
    "!python3 longestphrase.py -r hadoop hdfs://namenode:8020/hw1/SW_EpisodeVI.txt --conf-path config.conf --output /hw1/output23"
   ]
  },
  {
   "cell_type": "code",
   "execution_count": 20,
   "id": "c7148f7f-9bc8-472a-86b0-743333327a8d",
   "metadata": {},
   "outputs": [
    {
     "name": "stdout",
     "output_type": "stream",
     "text": [
      "\"ben\"\t[741, \"the organa household was high-born and politically quite powerful in that system leia became a princess by virtue of lineage no one knew shed been adopted of course but it was a title without real power since alderaan had long been a democracy even so the family continued to be politically powerful and leia following in her foster fathers path became a senator as well thats not all she became of course she became the leader of her cell in the alliance against the corrupt empire and because she had diplomatic immunity she was a vital link for getting information to the rebel cause thats what she was doing when her path crossed yours for her foster parents had always told her to contact me on tatooine if her troubles became desperate\"]\n",
      "\"ackbar\"\t[494, \"you can see here the death star orbiting the forest moon of endor although the weapon systems on this death star are not yet operational the death star does have a strong defense mechanism it is protected by an energy shield which is generated from the nearby forest moon of endor the shield must be deactivated if any attack is to be attempted once the shield is down our cruisers will create a perimeter while the fighters fly into the superstructure and attempt to knock out the main reactor\"]\n",
      "\"luke\"\t[486, \"greetings exalted one allow me to introduce myself i am luke skywalker jedi knight and friend to captain solo i know that you are powerful mighty jabba and that your anger with solo must be equally powerful i seek an audience with your greatness to bargain for solos life with your wisdom im sure that we can work out an arrangement which will be mutually beneficial and enable us to avoid any unpleasant confrontation as a token of my goodwill i present to you a gift: these two droids\"]\n",
      "\"mon\"\t[450, \"mothma the data brought to us by the bothan spies pinpoints the exact location of the emperors new battle station we also know that the weapon systems of this death star are not yet operational with the imperial fleet spread throughout the galaxy in a vain effort to engage us it is relatively unprotected but most important of all weve learned that the emperor himself is personally overseeing the final stages of the construction of this death star\"]\n",
      "\"yoda\"\t[256, \"lukelukedo notdo not underestimate the powers of the emperor or suffer your fathers fate you will luke when gone am i the last of the jedi will you be luke the force runs strong in your family pass on what you have learned luke there is anotherskyskywalker\"]\n",
      "\"emperor\"\t[219, \"are walking into a trap as is your rebel fleet it was i who allowed the alliance to know the location of the shield generator it is quite safe from your pitiful little band an entire legion of my best troops awaits them\"]\n",
      "\"vader\"\t[196, \"sister soyou have a twin sister your feelings have now betrayed her too obi-wan was wise to hide her from me now his failure is complete if you will not turn to the dark side then perhaps she will\"]\n",
      "\"threepio\"\t[180, \"victims of the almighty sarlacc: his excellency hopes that you will die honorably but should any of you wish to beg for mercy the great jabba the hutt will now listen to your pleas\"]\n",
      "\"general\"\t[177, \"madine we have stolen a small imperial shuttle disguised as a cargo ship and using a secret imperial code a strike team will land on the moon and deactivate the shield generator\"]\n",
      "\"commander\"\t[161, \"this is a rebel that surrendered to us although he denies it i believe there may be more of them and i request permission to conduct a further search of the area\"]\n",
      "\"death\"\t[151, \"star controller the security deflector shield will be deactivated when we have confirmation of your code transmission stand by you are clear to proceed\"]\n",
      "\"han\"\t[145, \"now dont get jittery luke there are a lot of command ships keep your distance though chewie but dont look like youre trying to keep your distance\"]\n",
      "\"lando\"\t[142, \"weve got to be able to get some kind of a reading on that shield up or down well how could they be jamming us if they dont know if were coming\"]\n",
      "\"ninedenine\"\t[137, \"youre a feisty little one but youll soon learn some respect i have need for you on the masters sail barge and i think youll fit in nicely\"]\n",
      "\"piett\"\t[123, \"i have my orders from the emperor himself he has something special planned for them we only need to keep them from escaping\"]\n",
      "\"han/pilot\"\t[123, \"its over commander the rebels have been routed theyre fleeing into the woods we need reinforcements to continue the pursuit\"]\n",
      "\"shuttle\"\t[116, \"captain command station this is st 321 code clearance blue were starting our approach deactivate the security shield\"]\n",
      "\"leia\"\t[105, \"the main entrance to the control bunkers on the far side of that landing platform this isnt gonna be easy\"]\n",
      "\"controller\"\t[96, \"shuttle tydirium deactivation of the shield will commence immediately follow your present course\"]\n",
      "\"jabba\"\t[88, \"its too late for that solo you may have been a good smuggler but now youre bantha fodder\"]\n",
      "\"anakin\"\t[76, \"you already have luke you were right about me tell your sisteryou were right\"]\n",
      "\"wedge\"\t[74, \"cut to the left ill take the leader theyre heading for the medical frigate\"]\n",
      "\"jerjerrod\"\t[71, \"lord vader this is an unexpected pleasure were honored by your presence\"]\n",
      "\"guard\"\t[60, \"halt the emperor does not wish to be disturbed at the moment\"]\n",
      "\"control\"\t[59, \"room commander send three squads to help open the back door\"]\n",
      "\"officer\"\t[57, \"inform the commander that lord vaders shuttle has arrived\"]\n",
      "\"boushh\"\t[51, \"just relax for a moment youre free of the carbonite\"]\n",
      "\"pilot\"\t[50, \"voice parts and technical crew for the forest moon\"]\n",
      "\"scout\"\t[45, \"#1 go get your ride and take her back to base\"]\n",
      "\"red\"\t[44, \"three three of them coming in twenty degrees\"]\n",
      "\"stormtrooper\"\t[38, \"all right move it i said move it go on\"]\n",
      "\"bib\"\t[38, \"nee jabba no badda me chaade su goodie\"]\n",
      "\"bunker\"\t[35, \"commander bring those two down here\"]\n",
      "\"oola\"\t[32, \"na chuba negatorie na na natoota\"]\n",
      "\"green\"\t[31, \"leader green leader standing by\"]\n",
      "\"gray\"\t[30, \"leader gray leader standing by\"]\n",
      "\"rebel\"\t[29, \"pilot theres too many of them\"]\n",
      "\"strange\"\t[25, \"voice tee chuta hhat yudd\"]\n",
      "\"second\"\t[17, \"commander yes sir\"]\n",
      "\"navigator\"\t[16, \"pressures steady\"]\n",
      "\"voice\"\t[15, \"im with you too\"]\n",
      "\"walker\"\t[13, \"pilot #1 look\"]\n",
      "\"lure\"\t[13, \"but youll die\"]\n",
      "\"y-wing\"\t[12, \"pilot im hit\"]\n",
      "\"operator\"\t[7, \"yes sir\"]\n",
      "\"dialogue\"\t[0, \"\"]\n"
     ]
    }
   ],
   "source": [
    "!hadoop fs -cat /hw1/output23/part-00000"
   ]
  }
 ],
 "metadata": {
  "kernelspec": {
   "display_name": "Python 3 (ipykernel)",
   "language": "python",
   "name": "python3"
  },
  "language_info": {
   "codemirror_mode": {
    "name": "ipython",
    "version": 3
   },
   "file_extension": ".py",
   "mimetype": "text/x-python",
   "name": "python",
   "nbconvert_exporter": "python",
   "pygments_lexer": "ipython3",
   "version": "3.10.12"
  }
 },
 "nbformat": 4,
 "nbformat_minor": 5
}
