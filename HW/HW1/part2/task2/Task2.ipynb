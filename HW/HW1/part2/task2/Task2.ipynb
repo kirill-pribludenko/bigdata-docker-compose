{
 "cells": [
  {
   "cell_type": "code",
   "execution_count": 1,
   "id": "e5489708-1f55-455f-b96c-8ac49987da94",
   "metadata": {},
   "outputs": [
    {
     "name": "stdout",
     "output_type": "stream",
     "text": [
      "\u001b[33mWARNING: Running pip as the 'root' user can result in broken permissions and conflicting behaviour with the system package manager. It is recommended to use a virtual environment instead: https://pip.pypa.io/warnings/venv\u001b[0m\u001b[33m\n",
      "\u001b[0m"
     ]
    }
   ],
   "source": [
    "!pip -q install mrjob pandas matplotlib"
   ]
  },
  {
   "cell_type": "code",
   "execution_count": 2,
   "id": "7dd7b895-d39f-43ee-a57c-6759fe7f297b",
   "metadata": {},
   "outputs": [],
   "source": [
    "import pandas as pd"
   ]
  },
  {
   "cell_type": "code",
   "execution_count": 3,
   "id": "cefad159-5af5-4d55-9b8c-98b7d91dd1b7",
   "metadata": {},
   "outputs": [
    {
     "name": "stdout",
     "output_type": "stream",
     "text": [
      "Overwriting longestphrase.py\n"
     ]
    }
   ],
   "source": [
    "%%file longestphrase.py\n",
    "from mrjob.job import MRJob, MRStep\n",
    "\n",
    "class MRLongestPhrase(MRJob):\n",
    "\n",
    "    def mapper(self, _, line):\n",
    "        words = (line.lower()) \\\n",
    "            .replace(\"(\", '').replace(\")\", '').replace(\"!\", '') \\\n",
    "            .replace(\".\", '').replace(\",\", '').replace(\"'\", '') \\\n",
    "            .replace(\"?\", '').replace('\"', '').split()[1:]\n",
    "\n",
    "        person = words[0]\n",
    "        phrase = ' '.join(words[1:])\n",
    "\n",
    "        yield person, (len(phrase), phrase)\n",
    "\n",
    "    def reducer(self, person, lengths_and_phrases):\n",
    "        max_length, max_phrase = max(lengths_and_phrases, key=lambda x: x[0])\n",
    "\n",
    "        yield None, (person, max_length, max_phrase)\n",
    "\n",
    "    def reducer_sort(self, _, person_length_phrase):\n",
    "        sorted_results = sorted(person_length_phrase, key=lambda x: x[1], reverse=True)\n",
    "\n",
    "        for person, length, phrase in sorted_results:\n",
    "            yield person, (length, phrase)\n",
    "\n",
    "    def steps(self):\n",
    "        return [\n",
    "            MRStep(mapper=self.mapper, reducer=self.reducer),\n",
    "            MRStep(reducer=self.reducer_sort)\n",
    "        ]\n",
    "\n",
    "if __name__ == '__main__':\n",
    "    MRLongestPhrase.run()"
   ]
  },
  {
   "cell_type": "code",
   "execution_count": 4,
   "id": "2ee67ee9-99b0-4b30-8ff4-2cafef2f4120",
   "metadata": {},
   "outputs": [
    {
     "name": "stdout",
     "output_type": "stream",
     "text": [
      "No configs found; falling back on auto-configuration\n",
      "No configs specified for inline runner\n",
      "Creating temp directory /tmp/longestphrase.root.20231121.081939.152465\n",
      "Running step 1 of 2...\n",
      "Running step 2 of 2...\n",
      "job output is in /tmp/longestphrase.root.20231121.081939.152465/output\n",
      "Streaming final output from /tmp/longestphrase.root.20231121.081939.152465/output...\n",
      "\"leia\"\t[574, \"general kenobi years ago you served my father in the clone wars now he begs you to help him in his struggle against the empire i regret that i am unable to present my fathers request to you in person but my ship has fallen under attack and im afraid my mission to bring you to alderaan has failed i have placed information vital to the survival of the rebellion into the memory systems of this r2 unit my father will know how to retrieve it you must see this droid safely delivered to him on alderaan this is our most desperate hour help me obi-wan kenobi youre my only hope\"]\n",
      "\"dodonna\"\t[340, \"the approach will not be easy you are required to maneuver straight down this trench and skim the surface to this point the target area is only two meters wide its a small thermal exhaust port right below the main port the shaft leads directly to the reactor system a precise hit will start a chain reaction which should destroy the station\"]\n",
      "\"biggs\"\t[337, \"i feel for you luke youre going to have to learn what seems to be important or what really is important what good is all your uncles work if its taken over by the empire you know theyre starting to nationalize commerce in the central systemsit wont be long before your uncle is merely a tenant slaving for the greater glory of the empire\"]\n",
      "\"jabba\"\t[316, \"put your blasters away han my boy im only doing this because youre the best and i need you so for an extra say twenty percent ill give you a little more time but this is it if you disappoint me again ill put a price on your head so large you wont be able to go near a civilized system for the rest of your short life\"]\n",
      "\"luke\"\t[299, \"so i cut off my power shut down the afterburners and came in low on deaks trail i was so close i thought i was going to fry my instruments as it was i busted up the skyhopper pretty bad uncle owen was pretty upset he grounded me for the rest of the season you should have been there it was fantastic\"]\n",
      "\"tarkin\"\t[290, \"not after we demonstrate the power of this station in a way you have determined the choice of the planet thatll be destroyed first since you are reluctant to provide us with the location of the rebel base i have chosen to test this stations destructive power on your home planet of alderaan\"]\n",
      "\"threepio\"\t[271, \"he says hes the property of obi-wan kenobi a resident of these parts and its a private message for him quite frankly sir i dont know what hes talking about our last master was captain antilles but with what weve been through this little r2 unit has become a bit eccentric\"]\n",
      "\"ben\"\t[253, \"a young jedi named darth vader who was a pupil of mine until he turned to evil helped the empire hunt down and destroy the jedi knights he betrayed and murdered your father now the jedi are all but extinct vader was seduced by the dark side of the force\"]\n",
      "\"vader\"\t[245, \"dont play games with me your highness you werent on any mercy mission this time you passed directly through a restricted system several transmissions were beamed to this ship by rebel spies i want to know what happened to the plans they sent you\"]\n",
      "\"han\"\t[244, \"kid ive flown from one side of this galaxy to the other ive seen a lot of strange stuff but ive never seen anything to make me believe theres one all-powerful force controlling everything theres no mystical energy field that controls my destiny\"]\n",
      "\"motti\"\t[218, \"dont try to frighten us with your sorcerers ways lord vader your sad devotion to that ancient religion has not helped you conjure up the stolen data tapes or given you clairvoyance enough to find the rebels hidden fort\"]\n",
      "\"officer\"\t[211, \"cass our scout ships have reached dantooine they found the remains of a rebel base but they estimate that it has been deserted for some time they are now conducting an extensive search of the surrounding systems\"]\n",
      "\"greedo\"\t[192, \"its too late you should have paid him when you had the chance jabbas put a price on your head so large that every bounty hunter in the galaxy will be looking for you im lucky i found you first\"]\n",
      "\"owen\"\t[182, \"harvest is when i need you the most only one more season this year well make enough on the harvest so ill be able to hire some more hands and then you can go to the academy next year\"]\n",
      "\"second\"\t[178, \"officer lord vader the battle station plans are not aboard this ship and no transmissions were made an escape pod was jettisoned during the fighting but no life forms were aboard\"]\n",
      "\"tagge\"\t[177, \"and what of the rebellion if the rebels have obtained a complete technical readout of this station it is possible however unlikely that they might find a weakness and exploit it\"]\n",
      "\"fixer\"\t[168, \"i keep telling you the rebellion is a long way from here i doubt if the empire would even fight to keep this system believe me luke this planet is a big hunk of nothing\"]\n",
      "\"red\"\t[162, \"leader i met your father once when i was just a boy he was a great pilot youll do all right if youve got half of your fathers skill youll do better than all right\"]\n",
      "\"voice\"\t[143, \"weve captured a freighter entering the remains of the alderaan system its markings match those of a ship that blasted its way out of mos eisley\"]\n",
      "\"death\"\t[136, \"star intercom voice we are approaching the planet yavin the rebel base is on a moon on the far side we are preparing to orbit the planet\"]\n",
      "\"commander\"\t[108, \"holding her is dangerous if word of this gets out it could generate sympathy for the rebellion in the senate\"]\n",
      "\"massassi\"\t[99, \"intercom voice stand-by alert death star approaching estimated time to firing range fifteen minutes\"]\n",
      "\"human\"\t[98, \"dont insult us you just watch yourself were wanted men i have the death sentence on twelve systems\"]\n",
      "\"rebel\"\t[97, \"officer we intercepted no transmissions aaah this is a consular ship were on a diplomatic mission\"]\n",
      "\"wedge\"\t[93, \"my scope shows the tower but i cant see the exhaust port are you sure the computer can hit it\"]\n",
      "\"imperial\"\t[92, \"officer the final check-out is complete all systems are operational what course shall we set\"]\n",
      "\"trooper\"\t[92, \"the ships all yours if the scanners pick up anything report it immediately all right lets go\"]\n",
      "\"control\"\t[90, \"officer squad leaders weve picked up a new group of signals enemy fighters coming your way\"]\n",
      "\"astro-officer\"\t[90, \"we count thirty rebel ships lord vader but theyre so small theyre evading our turbo-lasers\"]\n",
      "\"aunt\"\t[89, \"beru owen he cant stay here forever most of his friends have gone it means so much to him\"]\n",
      "\"gold\"\t[88, \"leader pardon me for asking sir but what good are snub fighters going to be against that\"]\n",
      "\"willard\"\t[85, \"when we heard about alderaan we were afraid that you were lost along with your father\"]\n",
      "\"intercom\"\t[83, \"voice governor tarkin we have an emergency alert in detention block aa-twenty-three\"]\n",
      "\"base\"\t[81, \"voice his computers off luke you switched off your targeting computer whats wrong\"]\n",
      "\"gantry\"\t[78, \"officer tx-four-one-two why arent you at your post tx-four-one-two do you copy\"]\n",
      "\"captain\"\t[72, \"hold your fire there are no life forms it must have been short-circuited\"]\n",
      "\"man\"\t[71, \"all flight troops man your stations all flight troops man your stations\"]\n",
      "\"beru\"\t[70, \"luke tell owen that if he gets a translator to be sure it speaks bocce\"]\n",
      "\"first\"\t[66, \"trooper someone was in the pod the tracks go off in this direction\"]\n",
      "\"chief\"\t[62, \"this r2 unit of your seems a bit beat up do you want a new one\"]\n",
      "\"bartender\"\t[62, \"your droids theyll have to wait outside we dont want them here\"]\n",
      "\"camie\"\t[37, \"it was just wormie on another rampage\"]\n",
      "\"technician\"\t[34, \"well get to work on him right away\"]\n",
      "\"woman\"\t[30, \"ive told you kids to slow down\"]\n",
      "\"creature\"\t[25, \"negola dewaghi wooldugger\"]\n",
      "\"deak\"\t[19, \"not again forget it\"]\n",
      "\"porkins\"\t[19, \"red six standing by\"]\n",
      "\"wingman\"\t[8, \"look out\"]\n",
      "\"dialogue\"\t[0, \"\"]\n",
      "Removing temp directory /tmp/longestphrase.root.20231121.081939.152465...\n"
     ]
    }
   ],
   "source": [
    "!python3 longestphrase.py SW_EpisodeIV.txt"
   ]
  },
  {
   "cell_type": "code",
   "execution_count": 5,
   "id": "79171065-b2ec-45bc-bbe6-8a76597b6057",
   "metadata": {},
   "outputs": [
    {
     "name": "stdout",
     "output_type": "stream",
     "text": [
      "No configs found; falling back on auto-configuration\n",
      "No configs specified for inline runner\n",
      "Creating temp directory /tmp/longestphrase.root.20231121.081939.585194\n",
      "Running step 1 of 2...\n",
      "Running step 2 of 2...\n",
      "job output is in /tmp/longestphrase.root.20231121.081939.585194/output\n",
      "Streaming final output from /tmp/longestphrase.root.20231121.081939.585194/output...\n",
      "Removing temp directory /tmp/longestphrase.root.20231121.081939.585194...\n"
     ]
    }
   ],
   "source": [
    "!python3 longestphrase.py SW_EpisodeIV.txt > out21.csv"
   ]
  },
  {
   "cell_type": "code",
   "execution_count": 6,
   "id": "04319b88-9641-4b64-a0d2-a2cc6925510f",
   "metadata": {},
   "outputs": [
    {
     "name": "stdout",
     "output_type": "stream",
     "text": [
      "No configs found; falling back on auto-configuration\n",
      "No configs specified for inline runner\n",
      "Creating temp directory /tmp/longestphrase.root.20231121.081940.002022\n",
      "Running step 1 of 2...\n",
      "Running step 2 of 2...\n",
      "job output is in /tmp/longestphrase.root.20231121.081940.002022/output\n",
      "Streaming final output from /tmp/longestphrase.root.20231121.081940.002022/output...\n",
      "Removing temp directory /tmp/longestphrase.root.20231121.081940.002022...\n"
     ]
    }
   ],
   "source": [
    "!python3 longestphrase.py SW_EpisodeV.txt > out22.csv"
   ]
  },
  {
   "cell_type": "code",
   "execution_count": 7,
   "id": "c58da4a8-408d-4e7c-a5be-7ab5d038b5dd",
   "metadata": {},
   "outputs": [
    {
     "name": "stdout",
     "output_type": "stream",
     "text": [
      "No configs found; falling back on auto-configuration\n",
      "No configs specified for inline runner\n",
      "Creating temp directory /tmp/longestphrase.root.20231121.081940.409568\n",
      "Running step 1 of 2...\n",
      "Running step 2 of 2...\n",
      "job output is in /tmp/longestphrase.root.20231121.081940.409568/output\n",
      "Streaming final output from /tmp/longestphrase.root.20231121.081940.409568/output...\n",
      "Removing temp directory /tmp/longestphrase.root.20231121.081940.409568...\n"
     ]
    }
   ],
   "source": [
    "!python3 longestphrase.py SW_EpisodeVI.txt > out23.csv"
   ]
  },
  {
   "cell_type": "markdown",
   "id": "d3bd07c2-9fd7-4e22-889b-e2658c31c4f4",
   "metadata": {},
   "source": [
    "Теперь с помощью Пандаса найдем самую длинную фразу во всех трех файлах"
   ]
  },
  {
   "cell_type": "code",
   "execution_count": 8,
   "id": "7c2e643d-9966-4375-a5fd-798b06247071",
   "metadata": {},
   "outputs": [],
   "source": [
    "df1 = pd.read_csv('out21.csv', sep='\\t', names=['name', 'phrase'], index_col=['name'])\n",
    "df2 = pd.read_csv('out22.csv', sep='\\t', names=['name', 'phrase'], index_col=['name'])\n",
    "df3 = pd.read_csv('out23.csv', sep='\\t', names=['name', 'phrase'], index_col=['name'])"
   ]
  },
  {
   "cell_type": "markdown",
   "id": "96bccd38-296d-448f-bf95-788f81846f9a",
   "metadata": {},
   "source": [
    "Выделим в отдельную колонку максимальную длину фразы для каждого персонажа"
   ]
  },
  {
   "cell_type": "code",
   "execution_count": 9,
   "id": "52abb38c-df88-4725-8598-cc7f3aa005d5",
   "metadata": {},
   "outputs": [],
   "source": [
    "import ast\n",
    "\n",
    "df1['max_len'] = df1['phrase'].apply(lambda x: ast.literal_eval(x)[0])\n",
    "df2['max_len'] = df2['phrase'].apply(lambda x: ast.literal_eval(x)[0])\n",
    "df3['max_len'] = df3['phrase'].apply(lambda x: ast.literal_eval(x)[0])"
   ]
  },
  {
   "cell_type": "code",
   "execution_count": 10,
   "id": "e988546d-3d34-433b-8d5a-953f9ece43bf",
   "metadata": {},
   "outputs": [
    {
     "data": {
      "text/plain": [
       "<Axes: xlabel='name'>"
      ]
     },
     "execution_count": 10,
     "metadata": {},
     "output_type": "execute_result"
    },
    {
     "data": {
      "image/png": "[encoded data removed]",
      "text/plain": [
       "<Figure size 640x480 with 1 Axes>"
      ]
     },
     "metadata": {},
     "output_type": "display_data"
    }
   ],
   "source": [
    "concatenated_df = pd.concat([df1, df2, df3])\n",
    "result_df = concatenated_df.groupby(concatenated_df.index)['max_len'].max()\n",
    "result_df.sort_values(ascending=False)[:20].plot(kind='bar')"
   ]
  },
  {
   "cell_type": "markdown",
   "id": "6b932843-763c-4854-83e2-a797ad2cbafe",
   "metadata": {},
   "source": [
    "Как видно самый говорящий это Бен."
   ]
  },
  {
   "cell_type": "code",
   "execution_count": 11,
   "id": "c7d49f5e-c53a-4648-8dd3-74457e6ce98f",
   "metadata": {},
   "outputs": [
    {
     "name": "stdout",
     "output_type": "stream",
     "text": [
      "the organa household was high-born and politically quite powerful in that system leia became a princess by virtue of lineage no one knew shed been adopted of course but it was a title without real power since alderaan had long been a democracy even so the family continued to be politically powerful and leia following in her foster fathers path became a senator as well thats not all she became of course she became the leader of her cell in the alliance against the corrupt empire and because she had diplomatic immunity she was a vital link for getting information to the rebel cause thats what she was doing when her path crossed yours for her foster parents had always told her to contact me on tatooine if her troubles became desperate\n"
     ]
    }
   ],
   "source": [
    "max_phrase = ast.literal_eval(concatenated_df.iloc[concatenated_df['max_len'].argmax()]['phrase'])[1]\n",
    "print(max_phrase)"
   ]
  },
  {
   "cell_type": "markdown",
   "id": "dd1a2956-85a6-474c-a054-a69aac70d9ca",
   "metadata": {},
   "source": [
    "Запускаем на кластере"
   ]
  },
  {
   "cell_type": "code",
   "execution_count": 12,
   "id": "082d0149-d9a9-4836-8537-acd511680fe8",
   "metadata": {},
   "outputs": [
    {
     "name": "stdout",
     "output_type": "stream",
     "text": [
      "Looking for hadoop binary in /opt/hadoop/bin...\n",
      "Found hadoop binary: /opt/hadoop/bin/hadoop\n",
      "Using Hadoop version 3.3.6\n",
      "Looking for Hadoop streaming jar in /opt/hadoop...\n",
      "Found Hadoop streaming jar: /opt/hadoop/share/hadoop/tools/lib/hadoop-streaming-3.3.6.jar\n",
      "Creating temp directory /tmp/longestphrase.root.20231121.081941.404692\n",
      "uploading working dir files to hdfs:///user/root/tmp/mrjob/longestphrase.root.20231121.081941.404692/files/wd...\n",
      "Copying other local files to hdfs:///user/root/tmp/mrjob/longestphrase.root.20231121.081941.404692/files/\n",
      "Running step 1 of 2...\n",
      "  packageJobJar: [/tmp/hadoop-unjar394352193315526491/] [] /tmp/streamjob3982039970299422586.jar tmpDir=null\n",
      "  Connecting to ResourceManager at resourcemanager/172.20.0.4:8032\n",
      "  Connecting to ResourceManager at resourcemanager/172.20.0.4:8032\n",
      "  Disabling Erasure Coding for path: /tmp/hadoop-yarn/staging/root/.staging/job_1700468691445_0007\n",
      "  Total input files to process : 1\n",
      "  number of splits:2\n",
      "  Submitting tokens for job: job_1700468691445_0007\n",
      "  Executing with tokens: []\n",
      "  resource-types.xml not found\n",
      "  Unable to find 'resource-types.xml'.\n",
      "  Submitted application application_1700468691445_0007\n",
      "  The url to track the job: http://resourcemanager:8088/proxy/application_1700468691445_0007/\n",
      "  Running job: job_1700468691445_0007\n",
      "  Job job_1700468691445_0007 running in uber mode : false\n",
      "   map 0% reduce 0%\n",
      "   map 100% reduce 0%\n",
      "   map 100% reduce 50%\n",
      "   map 100% reduce 100%\n",
      "  Job job_1700468691445_0007 completed successfully\n",
      "  Output directory: hdfs:///user/root/tmp/mrjob/longestphrase.root.20231121.081941.404692/step-output/0000\n",
      "Counters: 55\n",
      "\tFile Input Format Counters \n",
      "\t\tBytes Read=82374\n",
      "\tFile Output Format Counters \n",
      "\t\tBytes Written=8063\n",
      "\tFile System Counters\n",
      "\t\tFILE: Number of bytes read=76531\n",
      "\t\tFILE: Number of bytes written=1284312\n",
      "\t\tFILE: Number of large read operations=0\n",
      "\t\tFILE: Number of read operations=0\n",
      "\t\tFILE: Number of write operations=0\n",
      "\t\tHDFS: Number of bytes read=82560\n",
      "\t\tHDFS: Number of bytes read erasure-coded=0\n",
      "\t\tHDFS: Number of bytes written=8063\n",
      "\t\tHDFS: Number of large read operations=0\n",
      "\t\tHDFS: Number of read operations=16\n",
      "\t\tHDFS: Number of write operations=4\n",
      "\tJob Counters \n",
      "\t\tKilled reduce tasks=1\n",
      "\t\tLaunched map tasks=2\n",
      "\t\tLaunched reduce tasks=2\n",
      "\t\tRack-local map tasks=2\n",
      "\t\tTotal megabyte-milliseconds taken by all map tasks=9712640\n",
      "\t\tTotal megabyte-milliseconds taken by all reduce tasks=9734144\n",
      "\t\tTotal time spent by all map tasks (ms)=9485\n",
      "\t\tTotal time spent by all maps in occupied slots (ms)=18970\n",
      "\t\tTotal time spent by all reduce tasks (ms)=9506\n",
      "\t\tTotal time spent by all reduces in occupied slots (ms)=19012\n",
      "\t\tTotal vcore-milliseconds taken by all map tasks=9485\n",
      "\t\tTotal vcore-milliseconds taken by all reduce tasks=9506\n",
      "\tMap-Reduce Framework\n",
      "\t\tCPU time spent (ms)=2910\n",
      "\t\tCombine input records=0\n",
      "\t\tCombine output records=0\n",
      "\t\tFailed Shuffles=0\n",
      "\t\tGC time elapsed (ms)=346\n",
      "\t\tInput split bytes=186\n",
      "\t\tMap input records=1011\n",
      "\t\tMap output bytes=74376\n",
      "\t\tMap output materialized bytes=76543\n",
      "\t\tMap output records=1011\n",
      "\t\tMerged Map outputs=4\n",
      "\t\tPeak Map Physical memory (bytes)=265297920\n",
      "\t\tPeak Map Virtual memory (bytes)=5540380672\n",
      "\t\tPeak Reduce Physical memory (bytes)=265084928\n",
      "\t\tPeak Reduce Virtual memory (bytes)=5746950144\n",
      "\t\tPhysical memory (bytes) snapshot=1059192832\n",
      "\t\tReduce input groups=49\n",
      "\t\tReduce input records=1011\n",
      "\t\tReduce output records=49\n",
      "\t\tReduce shuffle bytes=76543\n",
      "\t\tShuffled Maps =4\n",
      "\t\tSpilled Records=2022\n",
      "\t\tTotal committed heap usage (bytes)=732430336\n",
      "\t\tVirtual memory (bytes) snapshot=22574661632\n",
      "\tShuffle Errors\n",
      "\t\tBAD_ID=0\n",
      "\t\tCONNECTION=0\n",
      "\t\tIO_ERROR=0\n",
      "\t\tWRONG_LENGTH=0\n",
      "\t\tWRONG_MAP=0\n",
      "\t\tWRONG_REDUCE=0\n",
      "Running step 2 of 2...\n",
      "  packageJobJar: [/tmp/hadoop-unjar6409443442877372036/] [] /tmp/streamjob2813468475445085747.jar tmpDir=null\n",
      "  Connecting to ResourceManager at resourcemanager/172.20.0.4:8032\n",
      "  Connecting to ResourceManager at resourcemanager/172.20.0.4:8032\n",
      "  Error Launching job : Output directory hdfs://namenode/hw1/output21 already exists\n",
      "  Streaming Command Failed!\n",
      "Attempting to fetch counters from logs...\n",
      "Can't fetch history log; missing job ID\n",
      "No counters found\n",
      "Scanning logs for probable cause of failure...\n",
      "Can't fetch history log; missing job ID\n",
      "Can't fetch task logs; missing application ID\n",
      "Step 2 of 2 failed: Command '['/opt/hadoop/bin/hadoop', 'jar', '/opt/hadoop/share/hadoop/tools/lib/hadoop-streaming-3.3.6.jar', '-files', 'hdfs:///user/root/tmp/mrjob/longestphrase.root.20231121.081941.404692/files/wd/longestphrase.py#longestphrase.py,hdfs:///user/root/tmp/mrjob/longestphrase.root.20231121.081941.404692/files/wd/mrjob.zip#mrjob.zip,hdfs:///user/root/tmp/mrjob/longestphrase.root.20231121.081941.404692/files/wd/setup-wrapper.sh#setup-wrapper.sh', '-D', 'mapreduce.job.reduces=2', '-input', 'hdfs:///user/root/tmp/mrjob/longestphrase.root.20231121.081941.404692/step-output/0000', '-output', 'hdfs:///hw1/output21', '-mapper', 'cat', '-reducer', '/bin/sh -ex setup-wrapper.sh python3 longestphrase.py --step-num=1 --reducer']' returned non-zero exit status 1280.\n"
     ]
    }
   ],
   "source": [
    "!python3 longestphrase.py -r hadoop hdfs://namenode:8020/hw1/SW_EpisodeIV.txt --conf-path config.conf --output /hw1/output21"
   ]
  },
  {
   "cell_type": "code",
   "execution_count": 13,
   "id": "507c7926-20fd-419d-bac3-9ed6f0164832",
   "metadata": {},
   "outputs": [
    {
     "name": "stdout",
     "output_type": "stream",
     "text": [
      "\"leia\"\t[574, \"general kenobi years ago you served my father in the clone wars now he begs you to help him in his struggle against the empire i regret that i am unable to present my fathers request to you in person but my ship has fallen under attack and im afraid my mission to bring you to alderaan has failed i have placed information vital to the survival of the rebellion into the memory systems of this r2 unit my father will know how to retrieve it you must see this droid safely delivered to him on alderaan this is our most desperate hour help me obi-wan kenobi youre my only hope\"]\n",
      "\"dodonna\"\t[340, \"the approach will not be easy you are required to maneuver straight down this trench and skim the surface to this point the target area is only two meters wide its a small thermal exhaust port right below the main port the shaft leads directly to the reactor system a precise hit will start a chain reaction which should destroy the station\"]\n",
      "\"biggs\"\t[337, \"i feel for you luke youre going to have to learn what seems to be important or what really is important what good is all your uncles work if its taken over by the empire you know theyre starting to nationalize commerce in the central systemsit wont be long before your uncle is merely a tenant slaving for the greater glory of the empire\"]\n",
      "\"jabba\"\t[316, \"put your blasters away han my boy im only doing this because youre the best and i need you so for an extra say twenty percent ill give you a little more time but this is it if you disappoint me again ill put a price on your head so large you wont be able to go near a civilized system for the rest of your short life\"]\n",
      "\"luke\"\t[299, \"so i cut off my power shut down the afterburners and came in low on deaks trail i was so close i thought i was going to fry my instruments as it was i busted up the skyhopper pretty bad uncle owen was pretty upset he grounded me for the rest of the season you should have been there it was fantastic\"]\n",
      "\"tarkin\"\t[290, \"not after we demonstrate the power of this station in a way you have determined the choice of the planet thatll be destroyed first since you are reluctant to provide us with the location of the rebel base i have chosen to test this stations destructive power on your home planet of alderaan\"]\n",
      "\"threepio\"\t[271, \"he says hes the property of obi-wan kenobi a resident of these parts and its a private message for him quite frankly sir i dont know what hes talking about our last master was captain antilles but with what weve been through this little r2 unit has become a bit eccentric\"]\n",
      "\"ben\"\t[253, \"a young jedi named darth vader who was a pupil of mine until he turned to evil helped the empire hunt down and destroy the jedi knights he betrayed and murdered your father now the jedi are all but extinct vader was seduced by the dark side of the force\"]\n",
      "\"vader\"\t[245, \"dont play games with me your highness you werent on any mercy mission this time you passed directly through a restricted system several transmissions were beamed to this ship by rebel spies i want to know what happened to the plans they sent you\"]\n",
      "\"han\"\t[244, \"kid ive flown from one side of this galaxy to the other ive seen a lot of strange stuff but ive never seen anything to make me believe theres one all-powerful force controlling everything theres no mystical energy field that controls my destiny\"]\n",
      "\"motti\"\t[218, \"dont try to frighten us with your sorcerers ways lord vader your sad devotion to that ancient religion has not helped you conjure up the stolen data tapes or given you clairvoyance enough to find the rebels hidden fort\"]\n",
      "\"officer\"\t[211, \"cass our scout ships have reached dantooine they found the remains of a rebel base but they estimate that it has been deserted for some time they are now conducting an extensive search of the surrounding systems\"]\n",
      "\"greedo\"\t[192, \"its too late you should have paid him when you had the chance jabbas put a price on your head so large that every bounty hunter in the galaxy will be looking for you im lucky i found you first\"]\n",
      "\"owen\"\t[182, \"harvest is when i need you the most only one more season this year well make enough on the harvest so ill be able to hire some more hands and then you can go to the academy next year\"]\n",
      "\"second\"\t[178, \"officer lord vader the battle station plans are not aboard this ship and no transmissions were made an escape pod was jettisoned during the fighting but no life forms were aboard\"]\n",
      "\"tagge\"\t[177, \"and what of the rebellion if the rebels have obtained a complete technical readout of this station it is possible however unlikely that they might find a weakness and exploit it\"]\n",
      "\"fixer\"\t[168, \"i keep telling you the rebellion is a long way from here i doubt if the empire would even fight to keep this system believe me luke this planet is a big hunk of nothing\"]\n",
      "\"red\"\t[162, \"leader i met your father once when i was just a boy he was a great pilot youll do all right if youve got half of your fathers skill youll do better than all right\"]\n",
      "\"voice\"\t[143, \"weve captured a freighter entering the remains of the alderaan system its markings match those of a ship that blasted its way out of mos eisley\"]\n",
      "\"death\"\t[136, \"star intercom voice we are approaching the planet yavin the rebel base is on a moon on the far side we are preparing to orbit the planet\"]\n",
      "\"commander\"\t[108, \"holding her is dangerous if word of this gets out it could generate sympathy for the rebellion in the senate\"]\n",
      "\"massassi\"\t[99, \"intercom voice stand-by alert death star approaching estimated time to firing range fifteen minutes\"]\n",
      "\"human\"\t[98, \"dont insult us you just watch yourself were wanted men i have the death sentence on twelve systems\"]\n",
      "\"rebel\"\t[97, \"officer we intercepted no transmissions aaah this is a consular ship were on a diplomatic mission\"]\n",
      "\"wedge\"\t[93, \"my scope shows the tower but i cant see the exhaust port are you sure the computer can hit it\"]\n",
      "\"trooper\"\t[92, \"the ships all yours if the scanners pick up anything report it immediately all right lets go\"]\n",
      "\"imperial\"\t[92, \"officer the final check-out is complete all systems are operational what course shall we set\"]\n",
      "\"control\"\t[90, \"officer squad leaders weve picked up a new group of signals enemy fighters coming your way\"]\n",
      "\"astro-officer\"\t[90, \"we count thirty rebel ships lord vader but theyre so small theyre evading our turbo-lasers\"]\n",
      "\"aunt\"\t[89, \"beru owen he cant stay here forever most of his friends have gone it means so much to him\"]\n",
      "\"gold\"\t[88, \"leader pardon me for asking sir but what good are snub fighters going to be against that\"]\n",
      "\"willard\"\t[85, \"when we heard about alderaan we were afraid that you were lost along with your father\"]\n",
      "\"intercom\"\t[83, \"voice governor tarkin we have an emergency alert in detention block aa-twenty-three\"]\n",
      "\"base\"\t[81, \"voice his computers off luke you switched off your targeting computer whats wrong\"]\n",
      "\"gantry\"\t[78, \"officer tx-four-one-two why arent you at your post tx-four-one-two do you copy\"]\n",
      "\"captain\"\t[72, \"hold your fire there are no life forms it must have been short-circuited\"]\n",
      "\"man\"\t[71, \"all flight troops man your stations all flight troops man your stations\"]\n",
      "\"beru\"\t[70, \"luke tell owen that if he gets a translator to be sure it speaks bocce\"]\n",
      "\"first\"\t[66, \"trooper someone was in the pod the tracks go off in this direction\"]\n",
      "\"chief\"\t[62, \"this r2 unit of your seems a bit beat up do you want a new one\"]\n",
      "\"bartender\"\t[62, \"your droids theyll have to wait outside we dont want them here\"]\n",
      "\"camie\"\t[37, \"it was just wormie on another rampage\"]\n",
      "\"technician\"\t[34, \"well get to work on him right away\"]\n",
      "\"woman\"\t[30, \"ive told you kids to slow down\"]\n",
      "\"creature\"\t[25, \"negola dewaghi wooldugger\"]\n",
      "\"deak\"\t[19, \"not again forget it\"]\n",
      "\"porkins\"\t[19, \"red six standing by\"]\n",
      "\"wingman\"\t[8, \"look out\"]\n",
      "\"dialogue\"\t[0, \"\"]\n"
     ]
    }
   ],
   "source": [
    "!hadoop fs -cat /hw1/output21/part-00000"
   ]
  },
  {
   "cell_type": "markdown",
   "id": "9252e096-398b-4b1e-920e-764421bf5e6e",
   "metadata": {},
   "source": [
    "Вычисление других файлов производится аналогично"
   ]
  },
  {
   "cell_type": "code",
   "execution_count": null,
   "id": "c468bbef-adf5-4b18-979a-f742c68c6603",
   "metadata": {},
   "outputs": [],
   "source": []
  }
 ],
 "metadata": {
  "kernelspec": {
   "display_name": "Python 3 (ipykernel)",
   "language": "python",
   "name": "python3"
  },
  "language_info": {
   "codemirror_mode": {
    "name": "ipython",
    "version": 3
   },
   "file_extension": ".py",
   "mimetype": "text/x-python",
   "name": "python",
   "nbconvert_exporter": "python",
   "pygments_lexer": "ipython3",
   "version": "3.10.12"
  }
 },
 "nbformat": 4,
 "nbformat_minor": 5
}
